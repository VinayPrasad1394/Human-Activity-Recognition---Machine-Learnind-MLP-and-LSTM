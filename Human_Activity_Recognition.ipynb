{
 "cells": [
  {
   "cell_type": "markdown",
   "metadata": {
    "colab_type": "text",
    "id": "JcNi8Wevk1Uu"
   },
   "source": [
    "#**Data** **Set** **Information**:\n",
    "\n",
    "The experiments have been carried out with a group of 30 volunteers within an age bracket of 19-48 years. Each person performed six activities (WALKING, WALKING_UPSTAIRS, WALKING_DOWNSTAIRS, SITTING, STANDING, LAYING) wearing a smartphone (Samsung Galaxy S II) on the waist. Using its embedded accelerometer and gyroscope, we captured 3-axial linear acceleration and 3-axial angular velocity at a constant rate of 50Hz. The experiments have been video-recorded to label the data manually. The obtained dataset has been randomly partitioned into two sets, where 70% of the volunteers was selected for generating the training data and 30% the test data.\n",
    "\n",
    "The sensor signals (accelerometer and gyroscope) were pre-processed by applying noise filters and then sampled in fixed-width sliding windows of 2.56 sec and 50% overlap (128 readings/window). The sensor acceleration signal, which has gravitational and body motion components, was separated using a Butterworth low-pass filter into body acceleration and gravity. The gravitational force is assumed to have only low frequency components, therefore a filter with 0.3 Hz cutoff frequency was used. From each window, a vector of features was obtained by calculating variables from the time and frequency domain.\n"
   ]
  },
  {
   "cell_type": "markdown",
   "metadata": {
    "colab_type": "text",
    "id": "Wnk2G_KppTXS"
   },
   "source": [
    "**Business Insights:**\n",
    "\n",
    "Using this data we can actually build a device, which can automatically predict the posture of the activity based on the data. \n",
    "\n",
    "This data is collected on Smart phone which is not always available to carry with us everywhere but industry so developed these days, we have smart watch which can keep track of physical activity. \n",
    "\n",
    "The data we have downloaded as only 6 predictions, but this approach can check your heart condition, blood circulation based on your physical activity and how lazy or active are you in your day to day life style."
   ]
  },
  {
   "cell_type": "markdown",
   "metadata": {
    "colab_type": "text",
    "id": "UFgeRrldldTg"
   },
   "source": [
    "Link to download the Data:\n",
    "http://archive.ics.uci.edu/ml/datasets/human+activity+recognition+using+smartphones\n",
    "\n",
    "#**Features Information**:\n",
    "For each record in the dataset it is provided:\n",
    "- Triaxial acceleration from the accelerometer (total acceleration) and the estimated body acceleration.\n",
    "- Triaxial Angular velocity from the gyroscope.\n",
    "- A 561-feature vector with time and frequency domain variables.\n",
    "- Its activity label.\n",
    "- An identifier of the subject who carried out the experiment.\n",
    "\n",
    "\n",
    "The data is based on two main senors properies, One is Accelerometer and the other is Gyroscope. \n",
    "\n",
    "An accelerometer is an electromechanical device used to measure acceleration forces. Such forces may be static, like the continuous force of gravity or, as is the case with many mobile devices, dynamic to sense movement or vibrations.\n",
    "\n",
    "\n",
    "Gyro sensors, also known as angular rate sensors or angular velocity sensors, are devices that sense angular velocity. Angular velocity. In simple terms, angular velocity is the change in rotational angle per unit of time.\n",
    "\n",
    "Using the above two sensors - 50% overlap(128readings/window), the basis statistics were apply on each window like mean, std, mad, angle, iqr, min, max, entropy of the signal, kutosis - height of the peak, skewness of the data etc. "
   ]
  },
  {
   "cell_type": "markdown",
   "metadata": {
    "colab_type": "text",
    "id": "9PN89rnnldee"
   },
   "source": [
    "**Label Information:**\n",
    "\n",
    "After the test on each individual suject, data on each subject was divided into 6:\n",
    "1. 'STANDING',\n",
    "2. 'SITTING',\n",
    "3. 'LAYING',\n",
    "4. 'WALKING',\n",
    "5. 'WALKING_DOWNSTAIRS',\n",
    "6. 'WALKING_UPSTAIRS'\n",
    "\n",
    "Using the data downloaded, our task is to build a best suitable model. \n",
    "\n",
    "\n",
    "\n"
   ]
  },
  {
   "cell_type": "markdown",
   "metadata": {
    "colab_type": "text",
    "id": "voZZdkkyldnl"
   },
   "source": [
    "**Approach:**\n",
    "\n",
    "UCI team has already got us every features that can be found on this data and provided to us for building a model. \n",
    "\n",
    "1. Load the Data.\n",
    "2. Preprocess Data.\n",
    "  - Check for Null Values. \n",
    "  - Duplicate Rows.\n",
    "  - Check the Data collected is equally for each subject or not. \n",
    "3. EDA\n",
    "4. Machine Learning Models. \n",
    "5. Deep Neural Nets (This is a sequential time series data, we can apply RNN, LSTM and GRU's.) \n"
   ]
  },
  {
   "cell_type": "code",
   "execution_count": 0,
   "metadata": {
    "colab": {},
    "colab_type": "code",
    "id": "KwMi7jI8uVk4"
   },
   "outputs": [],
   "source": [
    "#Basic modules to Load files and work on it. \n",
    "import numpy as np\n",
    "import pandas as pd"
   ]
  },
  {
   "cell_type": "code",
   "execution_count": 2,
   "metadata": {
    "colab": {
     "base_uri": "https://localhost:8080/",
     "height": 34
    },
    "colab_type": "code",
    "id": "RpYLXWn0vTRQ",
    "outputId": "f112e16e-c1a2-44cb-e7a2-a9bab28f7b84"
   },
   "outputs": [
    {
     "data": {
      "text/plain": [
       "(7352, 562)"
      ]
     },
     "execution_count": 2,
     "metadata": {
      "tags": []
     },
     "output_type": "execute_result"
    }
   ],
   "source": [
    "#Lets load the data, X_Train, y_train, X_test, y_test. \n",
    "#Downlaoded data has another feature, suject - which are people who have actively participated. \n",
    "#We need to add that seperately into our train data. \n",
    "\n",
    "X_train = pd.read_csv('/content/drive/My Drive/Human Activity Recognition/UCI_HAR_Dataset/train/X_train.txt', delim_whitespace = True, header = None)\n",
    "X_train['subject'] = pd.read_csv('/content/drive/My Drive/Human Activity Recognition/UCI_HAR_Dataset/train/subject_train.txt', header=None, squeeze=True)\n",
    "X_train.shape"
   ]
  },
  {
   "cell_type": "code",
   "execution_count": 3,
   "metadata": {
    "colab": {
     "base_uri": "https://localhost:8080/",
     "height": 34
    },
    "colab_type": "code",
    "id": "1eqIsty1xU35",
    "outputId": "4f25774c-5c6f-472b-9e85-e8c06b3c5407"
   },
   "outputs": [
    {
     "name": "stdout",
     "output_type": "stream",
     "text": [
      "No of Features: 561\n"
     ]
    }
   ],
   "source": [
    "#load feature names. \n",
    "features = pd.read_csv('/content/drive/My Drive/Human Activity Recognition/UCI_HAR_Dataset/features.txt', sep = ' ', names = ['index', 'feature_name'])\n",
    "features = list(features['feature_name'])\n",
    "print('No of Features: {}'.format(len(features)))"
   ]
  },
  {
   "cell_type": "code",
   "execution_count": 4,
   "metadata": {
    "colab": {
     "base_uri": "https://localhost:8080/",
     "height": 250
    },
    "colab_type": "code",
    "id": "-Js5zvi1xaiG",
    "outputId": "6d691e20-80f1-4445-f7b9-06164e68cdf1"
   },
   "outputs": [
    {
     "name": "stdout",
     "output_type": "stream",
     "text": [
      "Length of the features list: 562\n",
      "['tBodyAccmeanX', 'tBodyAccmeanY', 'tBodyAccmeanZ', 'tBodyAccstdX', 'tBodyAccstdY', 'tBodyAccstdZ', 'tBodyAccmadX', 'tBodyAccmadY', 'tBodyAccmadZ', 'tBodyAccmaxX']\n",
      "Index(['tBodyAccmeanX', 'tBodyAccmeanY', 'tBodyAccmeanZ', 'tBodyAccstdX',\n",
      "       'tBodyAccstdY', 'tBodyAccstdZ', 'tBodyAccmadX', 'tBodyAccmadY',\n",
      "       'tBodyAccmadZ', 'tBodyAccmaxX',\n",
      "       ...\n",
      "       'fBodyBodyGyroJerkMagskewness', 'fBodyBodyGyroJerkMagkurtosis',\n",
      "       'angle(tBodyAccMeangravity)', 'angle(tBodyAccJerkMean)gravityMean)',\n",
      "       'angle(tBodyGyroMeangravityMean)',\n",
      "       'angle(tBodyGyroJerkMeangravityMean)', 'angle(XgravityMean)',\n",
      "       'angle(YgravityMean)', 'angle(ZgravityMean)', 'subject'],\n",
      "      dtype='object', length=562)\n"
     ]
    }
   ],
   "source": [
    "#We have 562 features in X_train and we have assign feature names for Unlabeled columns. \n",
    "#as we have 'Subject' as a feature in X_train, lets add the column name to features. \n",
    "features.append('subject')\n",
    "print('Length of the features list: {}'.format(len(features)))\n",
    "columns = features\n",
    "# Removing '()' from column names\n",
    "for index,col_name in enumerate(features):\n",
    "  x = col_name.replace('()','')\n",
    "  x = x.replace('-', '')\n",
    "  features[index] = x.replace(',','')\n",
    "print(features[0:10])\n",
    "X_train.columns = features\n",
    "print(X_train.columns)"
   ]
  },
  {
   "cell_type": "code",
   "execution_count": 5,
   "metadata": {
    "colab": {
     "base_uri": "https://localhost:8080/",
     "height": 246
    },
    "colab_type": "code",
    "id": "EAGB_t-z0Nnd",
    "outputId": "04105f6b-706d-46e0-dd9b-08228e08e93c"
   },
   "outputs": [
    {
     "data": {
      "text/html": [
       "<div>\n",
       "<style scoped>\n",
       "    .dataframe tbody tr th:only-of-type {\n",
       "        vertical-align: middle;\n",
       "    }\n",
       "\n",
       "    .dataframe tbody tr th {\n",
       "        vertical-align: top;\n",
       "    }\n",
       "\n",
       "    .dataframe thead th {\n",
       "        text-align: right;\n",
       "    }\n",
       "</style>\n",
       "<table border=\"1\" class=\"dataframe\">\n",
       "  <thead>\n",
       "    <tr style=\"text-align: right;\">\n",
       "      <th></th>\n",
       "      <th>tBodyAccmeanX</th>\n",
       "      <th>tBodyAccmeanY</th>\n",
       "      <th>tBodyAccmeanZ</th>\n",
       "      <th>tBodyAccstdX</th>\n",
       "      <th>tBodyAccstdY</th>\n",
       "      <th>tBodyAccstdZ</th>\n",
       "      <th>tBodyAccmadX</th>\n",
       "      <th>tBodyAccmadY</th>\n",
       "      <th>tBodyAccmadZ</th>\n",
       "      <th>tBodyAccmaxX</th>\n",
       "      <th>tBodyAccmaxY</th>\n",
       "      <th>tBodyAccmaxZ</th>\n",
       "      <th>tBodyAccminX</th>\n",
       "      <th>tBodyAccminY</th>\n",
       "      <th>tBodyAccminZ</th>\n",
       "      <th>tBodyAccsma</th>\n",
       "      <th>tBodyAccenergyX</th>\n",
       "      <th>tBodyAccenergyY</th>\n",
       "      <th>tBodyAccenergyZ</th>\n",
       "      <th>tBodyAcciqrX</th>\n",
       "      <th>tBodyAcciqrY</th>\n",
       "      <th>tBodyAcciqrZ</th>\n",
       "      <th>tBodyAccentropyX</th>\n",
       "      <th>tBodyAccentropyY</th>\n",
       "      <th>tBodyAccentropyZ</th>\n",
       "      <th>tBodyAccarCoeffX1</th>\n",
       "      <th>tBodyAccarCoeffX2</th>\n",
       "      <th>tBodyAccarCoeffX3</th>\n",
       "      <th>tBodyAccarCoeffX4</th>\n",
       "      <th>tBodyAccarCoeffY1</th>\n",
       "      <th>tBodyAccarCoeffY2</th>\n",
       "      <th>tBodyAccarCoeffY3</th>\n",
       "      <th>tBodyAccarCoeffY4</th>\n",
       "      <th>tBodyAccarCoeffZ1</th>\n",
       "      <th>tBodyAccarCoeffZ2</th>\n",
       "      <th>tBodyAccarCoeffZ3</th>\n",
       "      <th>tBodyAccarCoeffZ4</th>\n",
       "      <th>tBodyAcccorrelationXY</th>\n",
       "      <th>tBodyAcccorrelationXZ</th>\n",
       "      <th>tBodyAcccorrelationYZ</th>\n",
       "      <th>...</th>\n",
       "      <th>fBodyBodyAccJerkMagiqr</th>\n",
       "      <th>fBodyBodyAccJerkMagentropy</th>\n",
       "      <th>fBodyBodyAccJerkMagmaxInds</th>\n",
       "      <th>fBodyBodyAccJerkMagmeanFreq</th>\n",
       "      <th>fBodyBodyAccJerkMagskewness</th>\n",
       "      <th>fBodyBodyAccJerkMagkurtosis</th>\n",
       "      <th>fBodyBodyGyroMagmean</th>\n",
       "      <th>fBodyBodyGyroMagstd</th>\n",
       "      <th>fBodyBodyGyroMagmad</th>\n",
       "      <th>fBodyBodyGyroMagmax</th>\n",
       "      <th>fBodyBodyGyroMagmin</th>\n",
       "      <th>fBodyBodyGyroMagsma</th>\n",
       "      <th>fBodyBodyGyroMagenergy</th>\n",
       "      <th>fBodyBodyGyroMagiqr</th>\n",
       "      <th>fBodyBodyGyroMagentropy</th>\n",
       "      <th>fBodyBodyGyroMagmaxInds</th>\n",
       "      <th>fBodyBodyGyroMagmeanFreq</th>\n",
       "      <th>fBodyBodyGyroMagskewness</th>\n",
       "      <th>fBodyBodyGyroMagkurtosis</th>\n",
       "      <th>fBodyBodyGyroJerkMagmean</th>\n",
       "      <th>fBodyBodyGyroJerkMagstd</th>\n",
       "      <th>fBodyBodyGyroJerkMagmad</th>\n",
       "      <th>fBodyBodyGyroJerkMagmax</th>\n",
       "      <th>fBodyBodyGyroJerkMagmin</th>\n",
       "      <th>fBodyBodyGyroJerkMagsma</th>\n",
       "      <th>fBodyBodyGyroJerkMagenergy</th>\n",
       "      <th>fBodyBodyGyroJerkMagiqr</th>\n",
       "      <th>fBodyBodyGyroJerkMagentropy</th>\n",
       "      <th>fBodyBodyGyroJerkMagmaxInds</th>\n",
       "      <th>fBodyBodyGyroJerkMagmeanFreq</th>\n",
       "      <th>fBodyBodyGyroJerkMagskewness</th>\n",
       "      <th>fBodyBodyGyroJerkMagkurtosis</th>\n",
       "      <th>angle(tBodyAccMeangravity)</th>\n",
       "      <th>angle(tBodyAccJerkMean)gravityMean)</th>\n",
       "      <th>angle(tBodyGyroMeangravityMean)</th>\n",
       "      <th>angle(tBodyGyroJerkMeangravityMean)</th>\n",
       "      <th>angle(XgravityMean)</th>\n",
       "      <th>angle(YgravityMean)</th>\n",
       "      <th>angle(ZgravityMean)</th>\n",
       "      <th>subject</th>\n",
       "    </tr>\n",
       "  </thead>\n",
       "  <tbody>\n",
       "    <tr>\n",
       "      <th>0</th>\n",
       "      <td>0.288585</td>\n",
       "      <td>-0.020294</td>\n",
       "      <td>-0.132905</td>\n",
       "      <td>-0.995279</td>\n",
       "      <td>-0.983111</td>\n",
       "      <td>-0.913526</td>\n",
       "      <td>-0.995112</td>\n",
       "      <td>-0.983185</td>\n",
       "      <td>-0.923527</td>\n",
       "      <td>-0.934724</td>\n",
       "      <td>-0.567378</td>\n",
       "      <td>-0.744413</td>\n",
       "      <td>0.852947</td>\n",
       "      <td>0.685845</td>\n",
       "      <td>0.814263</td>\n",
       "      <td>-0.965523</td>\n",
       "      <td>-0.999945</td>\n",
       "      <td>-0.999863</td>\n",
       "      <td>-0.994612</td>\n",
       "      <td>-0.994231</td>\n",
       "      <td>-0.987614</td>\n",
       "      <td>-0.943220</td>\n",
       "      <td>-0.407747</td>\n",
       "      <td>-0.679338</td>\n",
       "      <td>-0.602122</td>\n",
       "      <td>0.929294</td>\n",
       "      <td>-0.853011</td>\n",
       "      <td>0.359910</td>\n",
       "      <td>-0.058526</td>\n",
       "      <td>0.256892</td>\n",
       "      <td>-0.224848</td>\n",
       "      <td>0.264106</td>\n",
       "      <td>-0.095246</td>\n",
       "      <td>0.278851</td>\n",
       "      <td>-0.465085</td>\n",
       "      <td>0.491936</td>\n",
       "      <td>-0.190884</td>\n",
       "      <td>0.376314</td>\n",
       "      <td>0.435129</td>\n",
       "      <td>0.660790</td>\n",
       "      <td>...</td>\n",
       "      <td>-0.991364</td>\n",
       "      <td>-1.0</td>\n",
       "      <td>-0.936508</td>\n",
       "      <td>0.346989</td>\n",
       "      <td>-0.516080</td>\n",
       "      <td>-0.802760</td>\n",
       "      <td>-0.980135</td>\n",
       "      <td>-0.961309</td>\n",
       "      <td>-0.973653</td>\n",
       "      <td>-0.952264</td>\n",
       "      <td>-0.989498</td>\n",
       "      <td>-0.980135</td>\n",
       "      <td>-0.999240</td>\n",
       "      <td>-0.992656</td>\n",
       "      <td>-0.701291</td>\n",
       "      <td>-1.000000</td>\n",
       "      <td>-0.128989</td>\n",
       "      <td>0.586156</td>\n",
       "      <td>0.374605</td>\n",
       "      <td>-0.991990</td>\n",
       "      <td>-0.990697</td>\n",
       "      <td>-0.989941</td>\n",
       "      <td>-0.992448</td>\n",
       "      <td>-0.991048</td>\n",
       "      <td>-0.991990</td>\n",
       "      <td>-0.999937</td>\n",
       "      <td>-0.990458</td>\n",
       "      <td>-0.871306</td>\n",
       "      <td>-1.000000</td>\n",
       "      <td>-0.074323</td>\n",
       "      <td>-0.298676</td>\n",
       "      <td>-0.710304</td>\n",
       "      <td>-0.112754</td>\n",
       "      <td>0.030400</td>\n",
       "      <td>-0.464761</td>\n",
       "      <td>-0.018446</td>\n",
       "      <td>-0.841247</td>\n",
       "      <td>0.179941</td>\n",
       "      <td>-0.058627</td>\n",
       "      <td>1</td>\n",
       "    </tr>\n",
       "    <tr>\n",
       "      <th>1</th>\n",
       "      <td>0.278419</td>\n",
       "      <td>-0.016411</td>\n",
       "      <td>-0.123520</td>\n",
       "      <td>-0.998245</td>\n",
       "      <td>-0.975300</td>\n",
       "      <td>-0.960322</td>\n",
       "      <td>-0.998807</td>\n",
       "      <td>-0.974914</td>\n",
       "      <td>-0.957686</td>\n",
       "      <td>-0.943068</td>\n",
       "      <td>-0.557851</td>\n",
       "      <td>-0.818409</td>\n",
       "      <td>0.849308</td>\n",
       "      <td>0.685845</td>\n",
       "      <td>0.822637</td>\n",
       "      <td>-0.981930</td>\n",
       "      <td>-0.999991</td>\n",
       "      <td>-0.999788</td>\n",
       "      <td>-0.998405</td>\n",
       "      <td>-0.999150</td>\n",
       "      <td>-0.977866</td>\n",
       "      <td>-0.948225</td>\n",
       "      <td>-0.714892</td>\n",
       "      <td>-0.500930</td>\n",
       "      <td>-0.570979</td>\n",
       "      <td>0.611627</td>\n",
       "      <td>-0.329549</td>\n",
       "      <td>0.284213</td>\n",
       "      <td>0.284595</td>\n",
       "      <td>0.115705</td>\n",
       "      <td>-0.090963</td>\n",
       "      <td>0.294310</td>\n",
       "      <td>-0.281211</td>\n",
       "      <td>0.085988</td>\n",
       "      <td>-0.022153</td>\n",
       "      <td>-0.016657</td>\n",
       "      <td>-0.220643</td>\n",
       "      <td>-0.013429</td>\n",
       "      <td>-0.072692</td>\n",
       "      <td>0.579382</td>\n",
       "      <td>...</td>\n",
       "      <td>-0.991134</td>\n",
       "      <td>-1.0</td>\n",
       "      <td>-0.841270</td>\n",
       "      <td>0.532061</td>\n",
       "      <td>-0.624871</td>\n",
       "      <td>-0.900160</td>\n",
       "      <td>-0.988296</td>\n",
       "      <td>-0.983322</td>\n",
       "      <td>-0.982659</td>\n",
       "      <td>-0.986321</td>\n",
       "      <td>-0.991829</td>\n",
       "      <td>-0.988296</td>\n",
       "      <td>-0.999811</td>\n",
       "      <td>-0.993979</td>\n",
       "      <td>-0.720683</td>\n",
       "      <td>-0.948718</td>\n",
       "      <td>-0.271958</td>\n",
       "      <td>-0.336310</td>\n",
       "      <td>-0.720015</td>\n",
       "      <td>-0.995854</td>\n",
       "      <td>-0.996399</td>\n",
       "      <td>-0.995442</td>\n",
       "      <td>-0.996866</td>\n",
       "      <td>-0.994440</td>\n",
       "      <td>-0.995854</td>\n",
       "      <td>-0.999981</td>\n",
       "      <td>-0.994544</td>\n",
       "      <td>-1.000000</td>\n",
       "      <td>-1.000000</td>\n",
       "      <td>0.158075</td>\n",
       "      <td>-0.595051</td>\n",
       "      <td>-0.861499</td>\n",
       "      <td>0.053477</td>\n",
       "      <td>-0.007435</td>\n",
       "      <td>-0.732626</td>\n",
       "      <td>0.703511</td>\n",
       "      <td>-0.844788</td>\n",
       "      <td>0.180289</td>\n",
       "      <td>-0.054317</td>\n",
       "      <td>1</td>\n",
       "    </tr>\n",
       "    <tr>\n",
       "      <th>2</th>\n",
       "      <td>0.279653</td>\n",
       "      <td>-0.019467</td>\n",
       "      <td>-0.113462</td>\n",
       "      <td>-0.995380</td>\n",
       "      <td>-0.967187</td>\n",
       "      <td>-0.978944</td>\n",
       "      <td>-0.996520</td>\n",
       "      <td>-0.963668</td>\n",
       "      <td>-0.977469</td>\n",
       "      <td>-0.938692</td>\n",
       "      <td>-0.557851</td>\n",
       "      <td>-0.818409</td>\n",
       "      <td>0.843609</td>\n",
       "      <td>0.682401</td>\n",
       "      <td>0.839344</td>\n",
       "      <td>-0.983478</td>\n",
       "      <td>-0.999969</td>\n",
       "      <td>-0.999660</td>\n",
       "      <td>-0.999470</td>\n",
       "      <td>-0.997130</td>\n",
       "      <td>-0.964810</td>\n",
       "      <td>-0.974675</td>\n",
       "      <td>-0.592235</td>\n",
       "      <td>-0.485821</td>\n",
       "      <td>-0.570979</td>\n",
       "      <td>0.273025</td>\n",
       "      <td>-0.086309</td>\n",
       "      <td>0.337202</td>\n",
       "      <td>-0.164739</td>\n",
       "      <td>0.017150</td>\n",
       "      <td>-0.074507</td>\n",
       "      <td>0.342256</td>\n",
       "      <td>-0.332564</td>\n",
       "      <td>0.239281</td>\n",
       "      <td>-0.136204</td>\n",
       "      <td>0.173863</td>\n",
       "      <td>-0.299493</td>\n",
       "      <td>-0.124698</td>\n",
       "      <td>-0.181105</td>\n",
       "      <td>0.608900</td>\n",
       "      <td>...</td>\n",
       "      <td>-0.986658</td>\n",
       "      <td>-1.0</td>\n",
       "      <td>-0.904762</td>\n",
       "      <td>0.660795</td>\n",
       "      <td>-0.724697</td>\n",
       "      <td>-0.928539</td>\n",
       "      <td>-0.989255</td>\n",
       "      <td>-0.986028</td>\n",
       "      <td>-0.984274</td>\n",
       "      <td>-0.990979</td>\n",
       "      <td>-0.995703</td>\n",
       "      <td>-0.989255</td>\n",
       "      <td>-0.999854</td>\n",
       "      <td>-0.993238</td>\n",
       "      <td>-0.736521</td>\n",
       "      <td>-0.794872</td>\n",
       "      <td>-0.212728</td>\n",
       "      <td>-0.535352</td>\n",
       "      <td>-0.871914</td>\n",
       "      <td>-0.995031</td>\n",
       "      <td>-0.995127</td>\n",
       "      <td>-0.994640</td>\n",
       "      <td>-0.996060</td>\n",
       "      <td>-0.995866</td>\n",
       "      <td>-0.995031</td>\n",
       "      <td>-0.999973</td>\n",
       "      <td>-0.993755</td>\n",
       "      <td>-1.000000</td>\n",
       "      <td>-0.555556</td>\n",
       "      <td>0.414503</td>\n",
       "      <td>-0.390748</td>\n",
       "      <td>-0.760104</td>\n",
       "      <td>-0.118559</td>\n",
       "      <td>0.177899</td>\n",
       "      <td>0.100699</td>\n",
       "      <td>0.808529</td>\n",
       "      <td>-0.848933</td>\n",
       "      <td>0.180637</td>\n",
       "      <td>-0.049118</td>\n",
       "      <td>1</td>\n",
       "    </tr>\n",
       "    <tr>\n",
       "      <th>3</th>\n",
       "      <td>0.279174</td>\n",
       "      <td>-0.026201</td>\n",
       "      <td>-0.123283</td>\n",
       "      <td>-0.996091</td>\n",
       "      <td>-0.983403</td>\n",
       "      <td>-0.990675</td>\n",
       "      <td>-0.997099</td>\n",
       "      <td>-0.982750</td>\n",
       "      <td>-0.989302</td>\n",
       "      <td>-0.938692</td>\n",
       "      <td>-0.576159</td>\n",
       "      <td>-0.829711</td>\n",
       "      <td>0.843609</td>\n",
       "      <td>0.682401</td>\n",
       "      <td>0.837869</td>\n",
       "      <td>-0.986093</td>\n",
       "      <td>-0.999976</td>\n",
       "      <td>-0.999736</td>\n",
       "      <td>-0.999504</td>\n",
       "      <td>-0.997180</td>\n",
       "      <td>-0.983799</td>\n",
       "      <td>-0.986007</td>\n",
       "      <td>-0.627446</td>\n",
       "      <td>-0.850930</td>\n",
       "      <td>-0.911872</td>\n",
       "      <td>0.061436</td>\n",
       "      <td>0.074840</td>\n",
       "      <td>0.198204</td>\n",
       "      <td>-0.264307</td>\n",
       "      <td>0.072545</td>\n",
       "      <td>-0.155320</td>\n",
       "      <td>0.323154</td>\n",
       "      <td>-0.170813</td>\n",
       "      <td>0.294938</td>\n",
       "      <td>-0.306081</td>\n",
       "      <td>0.482148</td>\n",
       "      <td>-0.470129</td>\n",
       "      <td>-0.305693</td>\n",
       "      <td>-0.362654</td>\n",
       "      <td>0.507459</td>\n",
       "      <td>...</td>\n",
       "      <td>-0.988055</td>\n",
       "      <td>-1.0</td>\n",
       "      <td>1.000000</td>\n",
       "      <td>0.678921</td>\n",
       "      <td>-0.701131</td>\n",
       "      <td>-0.909639</td>\n",
       "      <td>-0.989413</td>\n",
       "      <td>-0.987836</td>\n",
       "      <td>-0.986850</td>\n",
       "      <td>-0.986749</td>\n",
       "      <td>-0.996199</td>\n",
       "      <td>-0.989413</td>\n",
       "      <td>-0.999876</td>\n",
       "      <td>-0.989136</td>\n",
       "      <td>-0.720891</td>\n",
       "      <td>-1.000000</td>\n",
       "      <td>-0.035684</td>\n",
       "      <td>-0.230091</td>\n",
       "      <td>-0.511217</td>\n",
       "      <td>-0.995221</td>\n",
       "      <td>-0.995237</td>\n",
       "      <td>-0.995722</td>\n",
       "      <td>-0.995273</td>\n",
       "      <td>-0.995732</td>\n",
       "      <td>-0.995221</td>\n",
       "      <td>-0.999974</td>\n",
       "      <td>-0.995226</td>\n",
       "      <td>-0.955696</td>\n",
       "      <td>-0.936508</td>\n",
       "      <td>0.404573</td>\n",
       "      <td>-0.117290</td>\n",
       "      <td>-0.482845</td>\n",
       "      <td>-0.036788</td>\n",
       "      <td>-0.012892</td>\n",
       "      <td>0.640011</td>\n",
       "      <td>-0.485366</td>\n",
       "      <td>-0.848649</td>\n",
       "      <td>0.181935</td>\n",
       "      <td>-0.047663</td>\n",
       "      <td>1</td>\n",
       "    </tr>\n",
       "    <tr>\n",
       "      <th>4</th>\n",
       "      <td>0.276629</td>\n",
       "      <td>-0.016570</td>\n",
       "      <td>-0.115362</td>\n",
       "      <td>-0.998139</td>\n",
       "      <td>-0.980817</td>\n",
       "      <td>-0.990482</td>\n",
       "      <td>-0.998321</td>\n",
       "      <td>-0.979672</td>\n",
       "      <td>-0.990441</td>\n",
       "      <td>-0.942469</td>\n",
       "      <td>-0.569174</td>\n",
       "      <td>-0.824705</td>\n",
       "      <td>0.849095</td>\n",
       "      <td>0.683250</td>\n",
       "      <td>0.837869</td>\n",
       "      <td>-0.992653</td>\n",
       "      <td>-0.999991</td>\n",
       "      <td>-0.999856</td>\n",
       "      <td>-0.999757</td>\n",
       "      <td>-0.998004</td>\n",
       "      <td>-0.981232</td>\n",
       "      <td>-0.991325</td>\n",
       "      <td>-0.786553</td>\n",
       "      <td>-0.559477</td>\n",
       "      <td>-0.761434</td>\n",
       "      <td>0.313276</td>\n",
       "      <td>-0.131208</td>\n",
       "      <td>0.191161</td>\n",
       "      <td>0.086904</td>\n",
       "      <td>0.257615</td>\n",
       "      <td>-0.272505</td>\n",
       "      <td>0.434728</td>\n",
       "      <td>-0.315375</td>\n",
       "      <td>0.439744</td>\n",
       "      <td>-0.269069</td>\n",
       "      <td>0.179414</td>\n",
       "      <td>-0.088952</td>\n",
       "      <td>-0.155804</td>\n",
       "      <td>-0.189763</td>\n",
       "      <td>0.599213</td>\n",
       "      <td>...</td>\n",
       "      <td>-0.994169</td>\n",
       "      <td>-1.0</td>\n",
       "      <td>-1.000000</td>\n",
       "      <td>0.559058</td>\n",
       "      <td>-0.528901</td>\n",
       "      <td>-0.858933</td>\n",
       "      <td>-0.991433</td>\n",
       "      <td>-0.989059</td>\n",
       "      <td>-0.987744</td>\n",
       "      <td>-0.991462</td>\n",
       "      <td>-0.998353</td>\n",
       "      <td>-0.991433</td>\n",
       "      <td>-0.999902</td>\n",
       "      <td>-0.989321</td>\n",
       "      <td>-0.763372</td>\n",
       "      <td>-0.897436</td>\n",
       "      <td>-0.273582</td>\n",
       "      <td>-0.510282</td>\n",
       "      <td>-0.830702</td>\n",
       "      <td>-0.995093</td>\n",
       "      <td>-0.995465</td>\n",
       "      <td>-0.995279</td>\n",
       "      <td>-0.995609</td>\n",
       "      <td>-0.997418</td>\n",
       "      <td>-0.995093</td>\n",
       "      <td>-0.999974</td>\n",
       "      <td>-0.995487</td>\n",
       "      <td>-1.000000</td>\n",
       "      <td>-0.936508</td>\n",
       "      <td>0.087753</td>\n",
       "      <td>-0.351471</td>\n",
       "      <td>-0.699205</td>\n",
       "      <td>0.123320</td>\n",
       "      <td>0.122542</td>\n",
       "      <td>0.693578</td>\n",
       "      <td>-0.615971</td>\n",
       "      <td>-0.847865</td>\n",
       "      <td>0.185151</td>\n",
       "      <td>-0.043892</td>\n",
       "      <td>1</td>\n",
       "    </tr>\n",
       "  </tbody>\n",
       "</table>\n",
       "<p>5 rows × 562 columns</p>\n",
       "</div>"
      ],
      "text/plain": [
       "   tBodyAccmeanX  tBodyAccmeanY  ...  angle(ZgravityMean)  subject\n",
       "0       0.288585      -0.020294  ...            -0.058627        1\n",
       "1       0.278419      -0.016411  ...            -0.054317        1\n",
       "2       0.279653      -0.019467  ...            -0.049118        1\n",
       "3       0.279174      -0.026201  ...            -0.047663        1\n",
       "4       0.276629      -0.016570  ...            -0.043892        1\n",
       "\n",
       "[5 rows x 562 columns]"
      ]
     },
     "execution_count": 5,
     "metadata": {
      "tags": []
     },
     "output_type": "execute_result"
    }
   ],
   "source": [
    "X_train.head()#Checking the data after the column variable has been cleaned. "
   ]
  },
  {
   "cell_type": "code",
   "execution_count": 6,
   "metadata": {
    "colab": {
     "base_uri": "https://localhost:8080/",
     "height": 197
    },
    "colab_type": "code",
    "id": "BGY9Z6mEwsSz",
    "outputId": "8ef312d8-4c24-451a-f4af-207b53823767"
   },
   "outputs": [
    {
     "data": {
      "text/html": [
       "<div>\n",
       "<style scoped>\n",
       "    .dataframe tbody tr th:only-of-type {\n",
       "        vertical-align: middle;\n",
       "    }\n",
       "\n",
       "    .dataframe tbody tr th {\n",
       "        vertical-align: top;\n",
       "    }\n",
       "\n",
       "    .dataframe thead th {\n",
       "        text-align: right;\n",
       "    }\n",
       "</style>\n",
       "<table border=\"1\" class=\"dataframe\">\n",
       "  <thead>\n",
       "    <tr style=\"text-align: right;\">\n",
       "      <th></th>\n",
       "      <th>Activity</th>\n",
       "      <th>Activity_Name</th>\n",
       "    </tr>\n",
       "  </thead>\n",
       "  <tbody>\n",
       "    <tr>\n",
       "      <th>0</th>\n",
       "      <td>5</td>\n",
       "      <td>STANDING</td>\n",
       "    </tr>\n",
       "    <tr>\n",
       "      <th>1</th>\n",
       "      <td>5</td>\n",
       "      <td>STANDING</td>\n",
       "    </tr>\n",
       "    <tr>\n",
       "      <th>2</th>\n",
       "      <td>5</td>\n",
       "      <td>STANDING</td>\n",
       "    </tr>\n",
       "    <tr>\n",
       "      <th>3</th>\n",
       "      <td>5</td>\n",
       "      <td>STANDING</td>\n",
       "    </tr>\n",
       "    <tr>\n",
       "      <th>4</th>\n",
       "      <td>5</td>\n",
       "      <td>STANDING</td>\n",
       "    </tr>\n",
       "  </tbody>\n",
       "</table>\n",
       "</div>"
      ],
      "text/plain": [
       "   Activity Activity_Name\n",
       "0         5      STANDING\n",
       "1         5      STANDING\n",
       "2         5      STANDING\n",
       "3         5      STANDING\n",
       "4         5      STANDING"
      ]
     },
     "execution_count": 6,
     "metadata": {
      "tags": []
     },
     "output_type": "execute_result"
    }
   ],
   "source": [
    "#Reading y text file\n",
    "y_train = pd.read_csv('/content/drive/My Drive/Human Activity Recognition/UCI_HAR_Dataset/train/y_train.txt', names=['Activity'])\n",
    "y_train['Activity_Name'] = y_train['Activity'].map({1: 'WALKING', 2:'WALKING_UPSTAIRS',3:'WALKING_DOWNSTAIRS',\n",
    "                              4:'SITTING', 5:'STANDING',6:'LAYING'})#Assigning string values to each class. \n",
    "y_train.head()#checking the head of the data. "
   ]
  },
  {
   "cell_type": "code",
   "execution_count": 7,
   "metadata": {
    "colab": {
     "base_uri": "https://localhost:8080/",
     "height": 246
    },
    "colab_type": "code",
    "id": "tQV3ibcpukIt",
    "outputId": "6107abb3-d0a8-41d3-b8e4-3e84679d164d"
   },
   "outputs": [
    {
     "data": {
      "text/html": [
       "<div>\n",
       "<style scoped>\n",
       "    .dataframe tbody tr th:only-of-type {\n",
       "        vertical-align: middle;\n",
       "    }\n",
       "\n",
       "    .dataframe tbody tr th {\n",
       "        vertical-align: top;\n",
       "    }\n",
       "\n",
       "    .dataframe thead th {\n",
       "        text-align: right;\n",
       "    }\n",
       "</style>\n",
       "<table border=\"1\" class=\"dataframe\">\n",
       "  <thead>\n",
       "    <tr style=\"text-align: right;\">\n",
       "      <th></th>\n",
       "      <th>tBodyAccmeanX</th>\n",
       "      <th>tBodyAccmeanY</th>\n",
       "      <th>tBodyAccmeanZ</th>\n",
       "      <th>tBodyAccstdX</th>\n",
       "      <th>tBodyAccstdY</th>\n",
       "      <th>tBodyAccstdZ</th>\n",
       "      <th>tBodyAccmadX</th>\n",
       "      <th>tBodyAccmadY</th>\n",
       "      <th>tBodyAccmadZ</th>\n",
       "      <th>tBodyAccmaxX</th>\n",
       "      <th>tBodyAccmaxY</th>\n",
       "      <th>tBodyAccmaxZ</th>\n",
       "      <th>tBodyAccminX</th>\n",
       "      <th>tBodyAccminY</th>\n",
       "      <th>tBodyAccminZ</th>\n",
       "      <th>tBodyAccsma</th>\n",
       "      <th>tBodyAccenergyX</th>\n",
       "      <th>tBodyAccenergyY</th>\n",
       "      <th>tBodyAccenergyZ</th>\n",
       "      <th>tBodyAcciqrX</th>\n",
       "      <th>tBodyAcciqrY</th>\n",
       "      <th>tBodyAcciqrZ</th>\n",
       "      <th>tBodyAccentropyX</th>\n",
       "      <th>tBodyAccentropyY</th>\n",
       "      <th>tBodyAccentropyZ</th>\n",
       "      <th>tBodyAccarCoeffX1</th>\n",
       "      <th>tBodyAccarCoeffX2</th>\n",
       "      <th>tBodyAccarCoeffX3</th>\n",
       "      <th>tBodyAccarCoeffX4</th>\n",
       "      <th>tBodyAccarCoeffY1</th>\n",
       "      <th>tBodyAccarCoeffY2</th>\n",
       "      <th>tBodyAccarCoeffY3</th>\n",
       "      <th>tBodyAccarCoeffY4</th>\n",
       "      <th>tBodyAccarCoeffZ1</th>\n",
       "      <th>tBodyAccarCoeffZ2</th>\n",
       "      <th>tBodyAccarCoeffZ3</th>\n",
       "      <th>tBodyAccarCoeffZ4</th>\n",
       "      <th>tBodyAcccorrelationXY</th>\n",
       "      <th>tBodyAcccorrelationXZ</th>\n",
       "      <th>tBodyAcccorrelationYZ</th>\n",
       "      <th>...</th>\n",
       "      <th>fBodyBodyAccJerkMagmaxInds</th>\n",
       "      <th>fBodyBodyAccJerkMagmeanFreq</th>\n",
       "      <th>fBodyBodyAccJerkMagskewness</th>\n",
       "      <th>fBodyBodyAccJerkMagkurtosis</th>\n",
       "      <th>fBodyBodyGyroMagmean</th>\n",
       "      <th>fBodyBodyGyroMagstd</th>\n",
       "      <th>fBodyBodyGyroMagmad</th>\n",
       "      <th>fBodyBodyGyroMagmax</th>\n",
       "      <th>fBodyBodyGyroMagmin</th>\n",
       "      <th>fBodyBodyGyroMagsma</th>\n",
       "      <th>fBodyBodyGyroMagenergy</th>\n",
       "      <th>fBodyBodyGyroMagiqr</th>\n",
       "      <th>fBodyBodyGyroMagentropy</th>\n",
       "      <th>fBodyBodyGyroMagmaxInds</th>\n",
       "      <th>fBodyBodyGyroMagmeanFreq</th>\n",
       "      <th>fBodyBodyGyroMagskewness</th>\n",
       "      <th>fBodyBodyGyroMagkurtosis</th>\n",
       "      <th>fBodyBodyGyroJerkMagmean</th>\n",
       "      <th>fBodyBodyGyroJerkMagstd</th>\n",
       "      <th>fBodyBodyGyroJerkMagmad</th>\n",
       "      <th>fBodyBodyGyroJerkMagmax</th>\n",
       "      <th>fBodyBodyGyroJerkMagmin</th>\n",
       "      <th>fBodyBodyGyroJerkMagsma</th>\n",
       "      <th>fBodyBodyGyroJerkMagenergy</th>\n",
       "      <th>fBodyBodyGyroJerkMagiqr</th>\n",
       "      <th>fBodyBodyGyroJerkMagentropy</th>\n",
       "      <th>fBodyBodyGyroJerkMagmaxInds</th>\n",
       "      <th>fBodyBodyGyroJerkMagmeanFreq</th>\n",
       "      <th>fBodyBodyGyroJerkMagskewness</th>\n",
       "      <th>fBodyBodyGyroJerkMagkurtosis</th>\n",
       "      <th>angle(tBodyAccMeangravity)</th>\n",
       "      <th>angle(tBodyAccJerkMean)gravityMean)</th>\n",
       "      <th>angle(tBodyGyroMeangravityMean)</th>\n",
       "      <th>angle(tBodyGyroJerkMeangravityMean)</th>\n",
       "      <th>angle(XgravityMean)</th>\n",
       "      <th>angle(YgravityMean)</th>\n",
       "      <th>angle(ZgravityMean)</th>\n",
       "      <th>subject</th>\n",
       "      <th>Activity</th>\n",
       "      <th>Activity_Name</th>\n",
       "    </tr>\n",
       "  </thead>\n",
       "  <tbody>\n",
       "    <tr>\n",
       "      <th>0</th>\n",
       "      <td>0.288585</td>\n",
       "      <td>-0.020294</td>\n",
       "      <td>-0.132905</td>\n",
       "      <td>-0.995279</td>\n",
       "      <td>-0.983111</td>\n",
       "      <td>-0.913526</td>\n",
       "      <td>-0.995112</td>\n",
       "      <td>-0.983185</td>\n",
       "      <td>-0.923527</td>\n",
       "      <td>-0.934724</td>\n",
       "      <td>-0.567378</td>\n",
       "      <td>-0.744413</td>\n",
       "      <td>0.852947</td>\n",
       "      <td>0.685845</td>\n",
       "      <td>0.814263</td>\n",
       "      <td>-0.965523</td>\n",
       "      <td>-0.999945</td>\n",
       "      <td>-0.999863</td>\n",
       "      <td>-0.994612</td>\n",
       "      <td>-0.994231</td>\n",
       "      <td>-0.987614</td>\n",
       "      <td>-0.943220</td>\n",
       "      <td>-0.407747</td>\n",
       "      <td>-0.679338</td>\n",
       "      <td>-0.602122</td>\n",
       "      <td>0.929294</td>\n",
       "      <td>-0.853011</td>\n",
       "      <td>0.359910</td>\n",
       "      <td>-0.058526</td>\n",
       "      <td>0.256892</td>\n",
       "      <td>-0.224848</td>\n",
       "      <td>0.264106</td>\n",
       "      <td>-0.095246</td>\n",
       "      <td>0.278851</td>\n",
       "      <td>-0.465085</td>\n",
       "      <td>0.491936</td>\n",
       "      <td>-0.190884</td>\n",
       "      <td>0.376314</td>\n",
       "      <td>0.435129</td>\n",
       "      <td>0.660790</td>\n",
       "      <td>...</td>\n",
       "      <td>-0.936508</td>\n",
       "      <td>0.346989</td>\n",
       "      <td>-0.516080</td>\n",
       "      <td>-0.802760</td>\n",
       "      <td>-0.980135</td>\n",
       "      <td>-0.961309</td>\n",
       "      <td>-0.973653</td>\n",
       "      <td>-0.952264</td>\n",
       "      <td>-0.989498</td>\n",
       "      <td>-0.980135</td>\n",
       "      <td>-0.999240</td>\n",
       "      <td>-0.992656</td>\n",
       "      <td>-0.701291</td>\n",
       "      <td>-1.000000</td>\n",
       "      <td>-0.128989</td>\n",
       "      <td>0.586156</td>\n",
       "      <td>0.374605</td>\n",
       "      <td>-0.991990</td>\n",
       "      <td>-0.990697</td>\n",
       "      <td>-0.989941</td>\n",
       "      <td>-0.992448</td>\n",
       "      <td>-0.991048</td>\n",
       "      <td>-0.991990</td>\n",
       "      <td>-0.999937</td>\n",
       "      <td>-0.990458</td>\n",
       "      <td>-0.871306</td>\n",
       "      <td>-1.000000</td>\n",
       "      <td>-0.074323</td>\n",
       "      <td>-0.298676</td>\n",
       "      <td>-0.710304</td>\n",
       "      <td>-0.112754</td>\n",
       "      <td>0.030400</td>\n",
       "      <td>-0.464761</td>\n",
       "      <td>-0.018446</td>\n",
       "      <td>-0.841247</td>\n",
       "      <td>0.179941</td>\n",
       "      <td>-0.058627</td>\n",
       "      <td>1</td>\n",
       "      <td>5</td>\n",
       "      <td>STANDING</td>\n",
       "    </tr>\n",
       "    <tr>\n",
       "      <th>1</th>\n",
       "      <td>0.278419</td>\n",
       "      <td>-0.016411</td>\n",
       "      <td>-0.123520</td>\n",
       "      <td>-0.998245</td>\n",
       "      <td>-0.975300</td>\n",
       "      <td>-0.960322</td>\n",
       "      <td>-0.998807</td>\n",
       "      <td>-0.974914</td>\n",
       "      <td>-0.957686</td>\n",
       "      <td>-0.943068</td>\n",
       "      <td>-0.557851</td>\n",
       "      <td>-0.818409</td>\n",
       "      <td>0.849308</td>\n",
       "      <td>0.685845</td>\n",
       "      <td>0.822637</td>\n",
       "      <td>-0.981930</td>\n",
       "      <td>-0.999991</td>\n",
       "      <td>-0.999788</td>\n",
       "      <td>-0.998405</td>\n",
       "      <td>-0.999150</td>\n",
       "      <td>-0.977866</td>\n",
       "      <td>-0.948225</td>\n",
       "      <td>-0.714892</td>\n",
       "      <td>-0.500930</td>\n",
       "      <td>-0.570979</td>\n",
       "      <td>0.611627</td>\n",
       "      <td>-0.329549</td>\n",
       "      <td>0.284213</td>\n",
       "      <td>0.284595</td>\n",
       "      <td>0.115705</td>\n",
       "      <td>-0.090963</td>\n",
       "      <td>0.294310</td>\n",
       "      <td>-0.281211</td>\n",
       "      <td>0.085988</td>\n",
       "      <td>-0.022153</td>\n",
       "      <td>-0.016657</td>\n",
       "      <td>-0.220643</td>\n",
       "      <td>-0.013429</td>\n",
       "      <td>-0.072692</td>\n",
       "      <td>0.579382</td>\n",
       "      <td>...</td>\n",
       "      <td>-0.841270</td>\n",
       "      <td>0.532061</td>\n",
       "      <td>-0.624871</td>\n",
       "      <td>-0.900160</td>\n",
       "      <td>-0.988296</td>\n",
       "      <td>-0.983322</td>\n",
       "      <td>-0.982659</td>\n",
       "      <td>-0.986321</td>\n",
       "      <td>-0.991829</td>\n",
       "      <td>-0.988296</td>\n",
       "      <td>-0.999811</td>\n",
       "      <td>-0.993979</td>\n",
       "      <td>-0.720683</td>\n",
       "      <td>-0.948718</td>\n",
       "      <td>-0.271958</td>\n",
       "      <td>-0.336310</td>\n",
       "      <td>-0.720015</td>\n",
       "      <td>-0.995854</td>\n",
       "      <td>-0.996399</td>\n",
       "      <td>-0.995442</td>\n",
       "      <td>-0.996866</td>\n",
       "      <td>-0.994440</td>\n",
       "      <td>-0.995854</td>\n",
       "      <td>-0.999981</td>\n",
       "      <td>-0.994544</td>\n",
       "      <td>-1.000000</td>\n",
       "      <td>-1.000000</td>\n",
       "      <td>0.158075</td>\n",
       "      <td>-0.595051</td>\n",
       "      <td>-0.861499</td>\n",
       "      <td>0.053477</td>\n",
       "      <td>-0.007435</td>\n",
       "      <td>-0.732626</td>\n",
       "      <td>0.703511</td>\n",
       "      <td>-0.844788</td>\n",
       "      <td>0.180289</td>\n",
       "      <td>-0.054317</td>\n",
       "      <td>1</td>\n",
       "      <td>5</td>\n",
       "      <td>STANDING</td>\n",
       "    </tr>\n",
       "    <tr>\n",
       "      <th>2</th>\n",
       "      <td>0.279653</td>\n",
       "      <td>-0.019467</td>\n",
       "      <td>-0.113462</td>\n",
       "      <td>-0.995380</td>\n",
       "      <td>-0.967187</td>\n",
       "      <td>-0.978944</td>\n",
       "      <td>-0.996520</td>\n",
       "      <td>-0.963668</td>\n",
       "      <td>-0.977469</td>\n",
       "      <td>-0.938692</td>\n",
       "      <td>-0.557851</td>\n",
       "      <td>-0.818409</td>\n",
       "      <td>0.843609</td>\n",
       "      <td>0.682401</td>\n",
       "      <td>0.839344</td>\n",
       "      <td>-0.983478</td>\n",
       "      <td>-0.999969</td>\n",
       "      <td>-0.999660</td>\n",
       "      <td>-0.999470</td>\n",
       "      <td>-0.997130</td>\n",
       "      <td>-0.964810</td>\n",
       "      <td>-0.974675</td>\n",
       "      <td>-0.592235</td>\n",
       "      <td>-0.485821</td>\n",
       "      <td>-0.570979</td>\n",
       "      <td>0.273025</td>\n",
       "      <td>-0.086309</td>\n",
       "      <td>0.337202</td>\n",
       "      <td>-0.164739</td>\n",
       "      <td>0.017150</td>\n",
       "      <td>-0.074507</td>\n",
       "      <td>0.342256</td>\n",
       "      <td>-0.332564</td>\n",
       "      <td>0.239281</td>\n",
       "      <td>-0.136204</td>\n",
       "      <td>0.173863</td>\n",
       "      <td>-0.299493</td>\n",
       "      <td>-0.124698</td>\n",
       "      <td>-0.181105</td>\n",
       "      <td>0.608900</td>\n",
       "      <td>...</td>\n",
       "      <td>-0.904762</td>\n",
       "      <td>0.660795</td>\n",
       "      <td>-0.724697</td>\n",
       "      <td>-0.928539</td>\n",
       "      <td>-0.989255</td>\n",
       "      <td>-0.986028</td>\n",
       "      <td>-0.984274</td>\n",
       "      <td>-0.990979</td>\n",
       "      <td>-0.995703</td>\n",
       "      <td>-0.989255</td>\n",
       "      <td>-0.999854</td>\n",
       "      <td>-0.993238</td>\n",
       "      <td>-0.736521</td>\n",
       "      <td>-0.794872</td>\n",
       "      <td>-0.212728</td>\n",
       "      <td>-0.535352</td>\n",
       "      <td>-0.871914</td>\n",
       "      <td>-0.995031</td>\n",
       "      <td>-0.995127</td>\n",
       "      <td>-0.994640</td>\n",
       "      <td>-0.996060</td>\n",
       "      <td>-0.995866</td>\n",
       "      <td>-0.995031</td>\n",
       "      <td>-0.999973</td>\n",
       "      <td>-0.993755</td>\n",
       "      <td>-1.000000</td>\n",
       "      <td>-0.555556</td>\n",
       "      <td>0.414503</td>\n",
       "      <td>-0.390748</td>\n",
       "      <td>-0.760104</td>\n",
       "      <td>-0.118559</td>\n",
       "      <td>0.177899</td>\n",
       "      <td>0.100699</td>\n",
       "      <td>0.808529</td>\n",
       "      <td>-0.848933</td>\n",
       "      <td>0.180637</td>\n",
       "      <td>-0.049118</td>\n",
       "      <td>1</td>\n",
       "      <td>5</td>\n",
       "      <td>STANDING</td>\n",
       "    </tr>\n",
       "    <tr>\n",
       "      <th>3</th>\n",
       "      <td>0.279174</td>\n",
       "      <td>-0.026201</td>\n",
       "      <td>-0.123283</td>\n",
       "      <td>-0.996091</td>\n",
       "      <td>-0.983403</td>\n",
       "      <td>-0.990675</td>\n",
       "      <td>-0.997099</td>\n",
       "      <td>-0.982750</td>\n",
       "      <td>-0.989302</td>\n",
       "      <td>-0.938692</td>\n",
       "      <td>-0.576159</td>\n",
       "      <td>-0.829711</td>\n",
       "      <td>0.843609</td>\n",
       "      <td>0.682401</td>\n",
       "      <td>0.837869</td>\n",
       "      <td>-0.986093</td>\n",
       "      <td>-0.999976</td>\n",
       "      <td>-0.999736</td>\n",
       "      <td>-0.999504</td>\n",
       "      <td>-0.997180</td>\n",
       "      <td>-0.983799</td>\n",
       "      <td>-0.986007</td>\n",
       "      <td>-0.627446</td>\n",
       "      <td>-0.850930</td>\n",
       "      <td>-0.911872</td>\n",
       "      <td>0.061436</td>\n",
       "      <td>0.074840</td>\n",
       "      <td>0.198204</td>\n",
       "      <td>-0.264307</td>\n",
       "      <td>0.072545</td>\n",
       "      <td>-0.155320</td>\n",
       "      <td>0.323154</td>\n",
       "      <td>-0.170813</td>\n",
       "      <td>0.294938</td>\n",
       "      <td>-0.306081</td>\n",
       "      <td>0.482148</td>\n",
       "      <td>-0.470129</td>\n",
       "      <td>-0.305693</td>\n",
       "      <td>-0.362654</td>\n",
       "      <td>0.507459</td>\n",
       "      <td>...</td>\n",
       "      <td>1.000000</td>\n",
       "      <td>0.678921</td>\n",
       "      <td>-0.701131</td>\n",
       "      <td>-0.909639</td>\n",
       "      <td>-0.989413</td>\n",
       "      <td>-0.987836</td>\n",
       "      <td>-0.986850</td>\n",
       "      <td>-0.986749</td>\n",
       "      <td>-0.996199</td>\n",
       "      <td>-0.989413</td>\n",
       "      <td>-0.999876</td>\n",
       "      <td>-0.989136</td>\n",
       "      <td>-0.720891</td>\n",
       "      <td>-1.000000</td>\n",
       "      <td>-0.035684</td>\n",
       "      <td>-0.230091</td>\n",
       "      <td>-0.511217</td>\n",
       "      <td>-0.995221</td>\n",
       "      <td>-0.995237</td>\n",
       "      <td>-0.995722</td>\n",
       "      <td>-0.995273</td>\n",
       "      <td>-0.995732</td>\n",
       "      <td>-0.995221</td>\n",
       "      <td>-0.999974</td>\n",
       "      <td>-0.995226</td>\n",
       "      <td>-0.955696</td>\n",
       "      <td>-0.936508</td>\n",
       "      <td>0.404573</td>\n",
       "      <td>-0.117290</td>\n",
       "      <td>-0.482845</td>\n",
       "      <td>-0.036788</td>\n",
       "      <td>-0.012892</td>\n",
       "      <td>0.640011</td>\n",
       "      <td>-0.485366</td>\n",
       "      <td>-0.848649</td>\n",
       "      <td>0.181935</td>\n",
       "      <td>-0.047663</td>\n",
       "      <td>1</td>\n",
       "      <td>5</td>\n",
       "      <td>STANDING</td>\n",
       "    </tr>\n",
       "    <tr>\n",
       "      <th>4</th>\n",
       "      <td>0.276629</td>\n",
       "      <td>-0.016570</td>\n",
       "      <td>-0.115362</td>\n",
       "      <td>-0.998139</td>\n",
       "      <td>-0.980817</td>\n",
       "      <td>-0.990482</td>\n",
       "      <td>-0.998321</td>\n",
       "      <td>-0.979672</td>\n",
       "      <td>-0.990441</td>\n",
       "      <td>-0.942469</td>\n",
       "      <td>-0.569174</td>\n",
       "      <td>-0.824705</td>\n",
       "      <td>0.849095</td>\n",
       "      <td>0.683250</td>\n",
       "      <td>0.837869</td>\n",
       "      <td>-0.992653</td>\n",
       "      <td>-0.999991</td>\n",
       "      <td>-0.999856</td>\n",
       "      <td>-0.999757</td>\n",
       "      <td>-0.998004</td>\n",
       "      <td>-0.981232</td>\n",
       "      <td>-0.991325</td>\n",
       "      <td>-0.786553</td>\n",
       "      <td>-0.559477</td>\n",
       "      <td>-0.761434</td>\n",
       "      <td>0.313276</td>\n",
       "      <td>-0.131208</td>\n",
       "      <td>0.191161</td>\n",
       "      <td>0.086904</td>\n",
       "      <td>0.257615</td>\n",
       "      <td>-0.272505</td>\n",
       "      <td>0.434728</td>\n",
       "      <td>-0.315375</td>\n",
       "      <td>0.439744</td>\n",
       "      <td>-0.269069</td>\n",
       "      <td>0.179414</td>\n",
       "      <td>-0.088952</td>\n",
       "      <td>-0.155804</td>\n",
       "      <td>-0.189763</td>\n",
       "      <td>0.599213</td>\n",
       "      <td>...</td>\n",
       "      <td>-1.000000</td>\n",
       "      <td>0.559058</td>\n",
       "      <td>-0.528901</td>\n",
       "      <td>-0.858933</td>\n",
       "      <td>-0.991433</td>\n",
       "      <td>-0.989059</td>\n",
       "      <td>-0.987744</td>\n",
       "      <td>-0.991462</td>\n",
       "      <td>-0.998353</td>\n",
       "      <td>-0.991433</td>\n",
       "      <td>-0.999902</td>\n",
       "      <td>-0.989321</td>\n",
       "      <td>-0.763372</td>\n",
       "      <td>-0.897436</td>\n",
       "      <td>-0.273582</td>\n",
       "      <td>-0.510282</td>\n",
       "      <td>-0.830702</td>\n",
       "      <td>-0.995093</td>\n",
       "      <td>-0.995465</td>\n",
       "      <td>-0.995279</td>\n",
       "      <td>-0.995609</td>\n",
       "      <td>-0.997418</td>\n",
       "      <td>-0.995093</td>\n",
       "      <td>-0.999974</td>\n",
       "      <td>-0.995487</td>\n",
       "      <td>-1.000000</td>\n",
       "      <td>-0.936508</td>\n",
       "      <td>0.087753</td>\n",
       "      <td>-0.351471</td>\n",
       "      <td>-0.699205</td>\n",
       "      <td>0.123320</td>\n",
       "      <td>0.122542</td>\n",
       "      <td>0.693578</td>\n",
       "      <td>-0.615971</td>\n",
       "      <td>-0.847865</td>\n",
       "      <td>0.185151</td>\n",
       "      <td>-0.043892</td>\n",
       "      <td>1</td>\n",
       "      <td>5</td>\n",
       "      <td>STANDING</td>\n",
       "    </tr>\n",
       "  </tbody>\n",
       "</table>\n",
       "<p>5 rows × 564 columns</p>\n",
       "</div>"
      ],
      "text/plain": [
       "   tBodyAccmeanX  tBodyAccmeanY  ...  Activity  Activity_Name\n",
       "0       0.288585      -0.020294  ...         5       STANDING\n",
       "1       0.278419      -0.016411  ...         5       STANDING\n",
       "2       0.279653      -0.019467  ...         5       STANDING\n",
       "3       0.279174      -0.026201  ...         5       STANDING\n",
       "4       0.276629      -0.016570  ...         5       STANDING\n",
       "\n",
       "[5 rows x 564 columns]"
      ]
     },
     "execution_count": 7,
     "metadata": {
      "tags": []
     },
     "output_type": "execute_result"
    }
   ],
   "source": [
    "#Now lets get all the the dataframes into one file.\n",
    "train = X_train\n",
    "train['Activity'], train['Activity_Name'] = y_train['Activity'], y_train['Activity_Name']#Concatinating X_train and y_train data that was loaded. \n",
    "train.head()"
   ]
  },
  {
   "cell_type": "code",
   "execution_count": 8,
   "metadata": {
    "colab": {
     "base_uri": "https://localhost:8080/",
     "height": 34
    },
    "colab_type": "code",
    "id": "ieHevno6A75S",
    "outputId": "4d8423e6-d098-4d31-bae2-c97c033e91e5"
   },
   "outputs": [
    {
     "data": {
      "text/plain": [
       "(7352, 564)"
      ]
     },
     "execution_count": 8,
     "metadata": {
      "tags": []
     },
     "output_type": "execute_result"
    }
   ],
   "source": [
    "train.shape#Dimnensions of the data. "
   ]
  },
  {
   "cell_type": "code",
   "execution_count": 9,
   "metadata": {
    "colab": {
     "base_uri": "https://localhost:8080/",
     "height": 52
    },
    "colab_type": "code",
    "id": "1d7G2EKx1Ox3",
    "outputId": "50ae161f-cbb7-4112-893d-52af6431f64d"
   },
   "outputs": [
    {
     "name": "stdout",
     "output_type": "stream",
     "text": [
      "(2947, 562)\n",
      "(2947, 2)\n"
     ]
    }
   ],
   "source": [
    "#As we have done above, the same process is followd for loading/reading the test text file. \n",
    "X_test = pd.read_csv('/content/drive/My Drive/Human Activity Recognition/UCI_HAR_Dataset/test/X_test.txt', delim_whitespace = True, header = None)\n",
    "X_test['subject'] = pd.read_csv('/content/drive/My Drive/Human Activity Recognition/UCI_HAR_Dataset/test/subject_test.txt', header=None, squeeze=True)\n",
    "print(X_test.shape)\n",
    "y_test = pd.read_csv('/content/drive/My Drive/Human Activity Recognition/UCI_HAR_Dataset/test/y_test.txt', names=['Activity'])\n",
    "y_test['Activity_Name'] = y_test['Activity'].map({1: 'WALKING', 2:'WALKING_UPSTAIRS',3:'WALKING_DOWNSTAIRS',\n",
    "                              4:'SITTING', 5:'STANDING',6:'LAYING'})\n",
    "print(y_test.shape)#Dimensions of the X_test and y_test"
   ]
  },
  {
   "cell_type": "code",
   "execution_count": 0,
   "metadata": {
    "colab": {},
    "colab_type": "code",
    "id": "hDC2354Y2rdG"
   },
   "outputs": [],
   "source": [
    "X_test.columns = features#Adding features to test column"
   ]
  },
  {
   "cell_type": "code",
   "execution_count": 11,
   "metadata": {
    "colab": {
     "base_uri": "https://localhost:8080/",
     "height": 246
    },
    "colab_type": "code",
    "id": "PZ0FO8FQ1bgP",
    "outputId": "eefebc41-b944-4263-86c2-701bc14afc8c"
   },
   "outputs": [
    {
     "data": {
      "text/html": [
       "<div>\n",
       "<style scoped>\n",
       "    .dataframe tbody tr th:only-of-type {\n",
       "        vertical-align: middle;\n",
       "    }\n",
       "\n",
       "    .dataframe tbody tr th {\n",
       "        vertical-align: top;\n",
       "    }\n",
       "\n",
       "    .dataframe thead th {\n",
       "        text-align: right;\n",
       "    }\n",
       "</style>\n",
       "<table border=\"1\" class=\"dataframe\">\n",
       "  <thead>\n",
       "    <tr style=\"text-align: right;\">\n",
       "      <th></th>\n",
       "      <th>tBodyAccmeanX</th>\n",
       "      <th>tBodyAccmeanY</th>\n",
       "      <th>tBodyAccmeanZ</th>\n",
       "      <th>tBodyAccstdX</th>\n",
       "      <th>tBodyAccstdY</th>\n",
       "      <th>tBodyAccstdZ</th>\n",
       "      <th>tBodyAccmadX</th>\n",
       "      <th>tBodyAccmadY</th>\n",
       "      <th>tBodyAccmadZ</th>\n",
       "      <th>tBodyAccmaxX</th>\n",
       "      <th>tBodyAccmaxY</th>\n",
       "      <th>tBodyAccmaxZ</th>\n",
       "      <th>tBodyAccminX</th>\n",
       "      <th>tBodyAccminY</th>\n",
       "      <th>tBodyAccminZ</th>\n",
       "      <th>tBodyAccsma</th>\n",
       "      <th>tBodyAccenergyX</th>\n",
       "      <th>tBodyAccenergyY</th>\n",
       "      <th>tBodyAccenergyZ</th>\n",
       "      <th>tBodyAcciqrX</th>\n",
       "      <th>tBodyAcciqrY</th>\n",
       "      <th>tBodyAcciqrZ</th>\n",
       "      <th>tBodyAccentropyX</th>\n",
       "      <th>tBodyAccentropyY</th>\n",
       "      <th>tBodyAccentropyZ</th>\n",
       "      <th>tBodyAccarCoeffX1</th>\n",
       "      <th>tBodyAccarCoeffX2</th>\n",
       "      <th>tBodyAccarCoeffX3</th>\n",
       "      <th>tBodyAccarCoeffX4</th>\n",
       "      <th>tBodyAccarCoeffY1</th>\n",
       "      <th>tBodyAccarCoeffY2</th>\n",
       "      <th>tBodyAccarCoeffY3</th>\n",
       "      <th>tBodyAccarCoeffY4</th>\n",
       "      <th>tBodyAccarCoeffZ1</th>\n",
       "      <th>tBodyAccarCoeffZ2</th>\n",
       "      <th>tBodyAccarCoeffZ3</th>\n",
       "      <th>tBodyAccarCoeffZ4</th>\n",
       "      <th>tBodyAcccorrelationXY</th>\n",
       "      <th>tBodyAcccorrelationXZ</th>\n",
       "      <th>tBodyAcccorrelationYZ</th>\n",
       "      <th>...</th>\n",
       "      <th>fBodyBodyAccJerkMagmaxInds</th>\n",
       "      <th>fBodyBodyAccJerkMagmeanFreq</th>\n",
       "      <th>fBodyBodyAccJerkMagskewness</th>\n",
       "      <th>fBodyBodyAccJerkMagkurtosis</th>\n",
       "      <th>fBodyBodyGyroMagmean</th>\n",
       "      <th>fBodyBodyGyroMagstd</th>\n",
       "      <th>fBodyBodyGyroMagmad</th>\n",
       "      <th>fBodyBodyGyroMagmax</th>\n",
       "      <th>fBodyBodyGyroMagmin</th>\n",
       "      <th>fBodyBodyGyroMagsma</th>\n",
       "      <th>fBodyBodyGyroMagenergy</th>\n",
       "      <th>fBodyBodyGyroMagiqr</th>\n",
       "      <th>fBodyBodyGyroMagentropy</th>\n",
       "      <th>fBodyBodyGyroMagmaxInds</th>\n",
       "      <th>fBodyBodyGyroMagmeanFreq</th>\n",
       "      <th>fBodyBodyGyroMagskewness</th>\n",
       "      <th>fBodyBodyGyroMagkurtosis</th>\n",
       "      <th>fBodyBodyGyroJerkMagmean</th>\n",
       "      <th>fBodyBodyGyroJerkMagstd</th>\n",
       "      <th>fBodyBodyGyroJerkMagmad</th>\n",
       "      <th>fBodyBodyGyroJerkMagmax</th>\n",
       "      <th>fBodyBodyGyroJerkMagmin</th>\n",
       "      <th>fBodyBodyGyroJerkMagsma</th>\n",
       "      <th>fBodyBodyGyroJerkMagenergy</th>\n",
       "      <th>fBodyBodyGyroJerkMagiqr</th>\n",
       "      <th>fBodyBodyGyroJerkMagentropy</th>\n",
       "      <th>fBodyBodyGyroJerkMagmaxInds</th>\n",
       "      <th>fBodyBodyGyroJerkMagmeanFreq</th>\n",
       "      <th>fBodyBodyGyroJerkMagskewness</th>\n",
       "      <th>fBodyBodyGyroJerkMagkurtosis</th>\n",
       "      <th>angle(tBodyAccMeangravity)</th>\n",
       "      <th>angle(tBodyAccJerkMean)gravityMean)</th>\n",
       "      <th>angle(tBodyGyroMeangravityMean)</th>\n",
       "      <th>angle(tBodyGyroJerkMeangravityMean)</th>\n",
       "      <th>angle(XgravityMean)</th>\n",
       "      <th>angle(YgravityMean)</th>\n",
       "      <th>angle(ZgravityMean)</th>\n",
       "      <th>subject</th>\n",
       "      <th>Activity</th>\n",
       "      <th>Activity_Name</th>\n",
       "    </tr>\n",
       "  </thead>\n",
       "  <tbody>\n",
       "    <tr>\n",
       "      <th>0</th>\n",
       "      <td>0.257178</td>\n",
       "      <td>-0.023285</td>\n",
       "      <td>-0.014654</td>\n",
       "      <td>-0.938404</td>\n",
       "      <td>-0.920091</td>\n",
       "      <td>-0.667683</td>\n",
       "      <td>-0.952501</td>\n",
       "      <td>-0.925249</td>\n",
       "      <td>-0.674302</td>\n",
       "      <td>-0.894088</td>\n",
       "      <td>-0.554577</td>\n",
       "      <td>-0.466223</td>\n",
       "      <td>0.717208</td>\n",
       "      <td>0.635502</td>\n",
       "      <td>0.789497</td>\n",
       "      <td>-0.877764</td>\n",
       "      <td>-0.997766</td>\n",
       "      <td>-0.998414</td>\n",
       "      <td>-0.934345</td>\n",
       "      <td>-0.975669</td>\n",
       "      <td>-0.949824</td>\n",
       "      <td>-0.830478</td>\n",
       "      <td>-0.168084</td>\n",
       "      <td>-0.378996</td>\n",
       "      <td>0.246217</td>\n",
       "      <td>0.521204</td>\n",
       "      <td>-0.487793</td>\n",
       "      <td>0.482280</td>\n",
       "      <td>-0.045462</td>\n",
       "      <td>0.211955</td>\n",
       "      <td>-0.134894</td>\n",
       "      <td>0.130858</td>\n",
       "      <td>-0.014176</td>\n",
       "      <td>-0.105971</td>\n",
       "      <td>0.073544</td>\n",
       "      <td>-0.171516</td>\n",
       "      <td>0.040063</td>\n",
       "      <td>0.076989</td>\n",
       "      <td>-0.490546</td>\n",
       "      <td>-0.709003</td>\n",
       "      <td>...</td>\n",
       "      <td>-1.000000</td>\n",
       "      <td>-0.035356</td>\n",
       "      <td>-0.254248</td>\n",
       "      <td>-0.700326</td>\n",
       "      <td>-0.770610</td>\n",
       "      <td>-0.797113</td>\n",
       "      <td>-0.764485</td>\n",
       "      <td>-0.820188</td>\n",
       "      <td>-0.937959</td>\n",
       "      <td>-0.770610</td>\n",
       "      <td>-0.970958</td>\n",
       "      <td>-0.798387</td>\n",
       "      <td>0.179435</td>\n",
       "      <td>-1.000000</td>\n",
       "      <td>-0.047391</td>\n",
       "      <td>-0.467849</td>\n",
       "      <td>-0.761326</td>\n",
       "      <td>-0.890165</td>\n",
       "      <td>-0.907308</td>\n",
       "      <td>-0.895301</td>\n",
       "      <td>-0.917883</td>\n",
       "      <td>-0.909829</td>\n",
       "      <td>-0.890165</td>\n",
       "      <td>-0.994105</td>\n",
       "      <td>-0.898022</td>\n",
       "      <td>-0.234815</td>\n",
       "      <td>-1.000000</td>\n",
       "      <td>0.071645</td>\n",
       "      <td>-0.330370</td>\n",
       "      <td>-0.705974</td>\n",
       "      <td>0.006462</td>\n",
       "      <td>0.162920</td>\n",
       "      <td>-0.825886</td>\n",
       "      <td>0.271151</td>\n",
       "      <td>-0.720009</td>\n",
       "      <td>0.276801</td>\n",
       "      <td>-0.057978</td>\n",
       "      <td>2</td>\n",
       "      <td>5</td>\n",
       "      <td>STANDING</td>\n",
       "    </tr>\n",
       "    <tr>\n",
       "      <th>1</th>\n",
       "      <td>0.286027</td>\n",
       "      <td>-0.013163</td>\n",
       "      <td>-0.119083</td>\n",
       "      <td>-0.975415</td>\n",
       "      <td>-0.967458</td>\n",
       "      <td>-0.944958</td>\n",
       "      <td>-0.986799</td>\n",
       "      <td>-0.968401</td>\n",
       "      <td>-0.945823</td>\n",
       "      <td>-0.894088</td>\n",
       "      <td>-0.554577</td>\n",
       "      <td>-0.806013</td>\n",
       "      <td>0.768031</td>\n",
       "      <td>0.683698</td>\n",
       "      <td>0.796706</td>\n",
       "      <td>-0.969097</td>\n",
       "      <td>-0.999580</td>\n",
       "      <td>-0.999646</td>\n",
       "      <td>-0.997720</td>\n",
       "      <td>-0.994006</td>\n",
       "      <td>-0.973637</td>\n",
       "      <td>-0.950720</td>\n",
       "      <td>-0.302437</td>\n",
       "      <td>-0.348243</td>\n",
       "      <td>-0.404785</td>\n",
       "      <td>0.507492</td>\n",
       "      <td>-0.156495</td>\n",
       "      <td>0.040674</td>\n",
       "      <td>0.272991</td>\n",
       "      <td>0.197566</td>\n",
       "      <td>-0.194556</td>\n",
       "      <td>0.411411</td>\n",
       "      <td>-0.340466</td>\n",
       "      <td>0.077555</td>\n",
       "      <td>-0.084024</td>\n",
       "      <td>0.035305</td>\n",
       "      <td>-0.010083</td>\n",
       "      <td>-0.104983</td>\n",
       "      <td>-0.429134</td>\n",
       "      <td>0.399177</td>\n",
       "      <td>...</td>\n",
       "      <td>-1.000000</td>\n",
       "      <td>-0.491213</td>\n",
       "      <td>-0.215404</td>\n",
       "      <td>-0.666004</td>\n",
       "      <td>-0.924461</td>\n",
       "      <td>-0.916774</td>\n",
       "      <td>-0.919383</td>\n",
       "      <td>-0.917983</td>\n",
       "      <td>-0.991121</td>\n",
       "      <td>-0.924461</td>\n",
       "      <td>-0.995727</td>\n",
       "      <td>-0.933127</td>\n",
       "      <td>-0.218860</td>\n",
       "      <td>-1.000000</td>\n",
       "      <td>-0.031474</td>\n",
       "      <td>-0.090655</td>\n",
       "      <td>-0.461801</td>\n",
       "      <td>-0.951977</td>\n",
       "      <td>-0.938212</td>\n",
       "      <td>-0.938008</td>\n",
       "      <td>-0.949922</td>\n",
       "      <td>-0.986902</td>\n",
       "      <td>-0.951977</td>\n",
       "      <td>-0.998272</td>\n",
       "      <td>-0.951255</td>\n",
       "      <td>-0.431053</td>\n",
       "      <td>-1.000000</td>\n",
       "      <td>-0.401189</td>\n",
       "      <td>-0.121845</td>\n",
       "      <td>-0.594944</td>\n",
       "      <td>-0.083495</td>\n",
       "      <td>0.017500</td>\n",
       "      <td>-0.434375</td>\n",
       "      <td>0.920593</td>\n",
       "      <td>-0.698091</td>\n",
       "      <td>0.281343</td>\n",
       "      <td>-0.083898</td>\n",
       "      <td>2</td>\n",
       "      <td>5</td>\n",
       "      <td>STANDING</td>\n",
       "    </tr>\n",
       "    <tr>\n",
       "      <th>2</th>\n",
       "      <td>0.275485</td>\n",
       "      <td>-0.026050</td>\n",
       "      <td>-0.118152</td>\n",
       "      <td>-0.993819</td>\n",
       "      <td>-0.969926</td>\n",
       "      <td>-0.962748</td>\n",
       "      <td>-0.994403</td>\n",
       "      <td>-0.970735</td>\n",
       "      <td>-0.963483</td>\n",
       "      <td>-0.939260</td>\n",
       "      <td>-0.568512</td>\n",
       "      <td>-0.799116</td>\n",
       "      <td>0.848305</td>\n",
       "      <td>0.667864</td>\n",
       "      <td>0.822442</td>\n",
       "      <td>-0.976782</td>\n",
       "      <td>-0.999954</td>\n",
       "      <td>-0.999570</td>\n",
       "      <td>-0.998720</td>\n",
       "      <td>-0.993456</td>\n",
       "      <td>-0.974266</td>\n",
       "      <td>-0.964976</td>\n",
       "      <td>-0.617916</td>\n",
       "      <td>-0.695490</td>\n",
       "      <td>-0.536693</td>\n",
       "      <td>0.242147</td>\n",
       "      <td>-0.114997</td>\n",
       "      <td>0.032703</td>\n",
       "      <td>0.192385</td>\n",
       "      <td>-0.011945</td>\n",
       "      <td>-0.063363</td>\n",
       "      <td>0.470819</td>\n",
       "      <td>-0.507395</td>\n",
       "      <td>0.188536</td>\n",
       "      <td>-0.231575</td>\n",
       "      <td>0.632120</td>\n",
       "      <td>-0.550708</td>\n",
       "      <td>0.305653</td>\n",
       "      <td>-0.323848</td>\n",
       "      <td>0.279786</td>\n",
       "      <td>...</td>\n",
       "      <td>-1.000000</td>\n",
       "      <td>0.140729</td>\n",
       "      <td>-0.206062</td>\n",
       "      <td>-0.639809</td>\n",
       "      <td>-0.975209</td>\n",
       "      <td>-0.973998</td>\n",
       "      <td>-0.967097</td>\n",
       "      <td>-0.982849</td>\n",
       "      <td>-0.997663</td>\n",
       "      <td>-0.975209</td>\n",
       "      <td>-0.999504</td>\n",
       "      <td>-0.968260</td>\n",
       "      <td>-0.561266</td>\n",
       "      <td>-0.897436</td>\n",
       "      <td>-0.168805</td>\n",
       "      <td>-0.662317</td>\n",
       "      <td>-0.925364</td>\n",
       "      <td>-0.985689</td>\n",
       "      <td>-0.983273</td>\n",
       "      <td>-0.983422</td>\n",
       "      <td>-0.986857</td>\n",
       "      <td>-0.989609</td>\n",
       "      <td>-0.985689</td>\n",
       "      <td>-0.999831</td>\n",
       "      <td>-0.986148</td>\n",
       "      <td>-0.809976</td>\n",
       "      <td>-0.936508</td>\n",
       "      <td>0.062891</td>\n",
       "      <td>-0.190422</td>\n",
       "      <td>-0.640736</td>\n",
       "      <td>-0.034956</td>\n",
       "      <td>0.202302</td>\n",
       "      <td>0.064103</td>\n",
       "      <td>0.145068</td>\n",
       "      <td>-0.702771</td>\n",
       "      <td>0.280083</td>\n",
       "      <td>-0.079346</td>\n",
       "      <td>2</td>\n",
       "      <td>5</td>\n",
       "      <td>STANDING</td>\n",
       "    </tr>\n",
       "    <tr>\n",
       "      <th>3</th>\n",
       "      <td>0.270298</td>\n",
       "      <td>-0.032614</td>\n",
       "      <td>-0.117520</td>\n",
       "      <td>-0.994743</td>\n",
       "      <td>-0.973268</td>\n",
       "      <td>-0.967091</td>\n",
       "      <td>-0.995274</td>\n",
       "      <td>-0.974471</td>\n",
       "      <td>-0.968897</td>\n",
       "      <td>-0.938610</td>\n",
       "      <td>-0.568512</td>\n",
       "      <td>-0.799116</td>\n",
       "      <td>0.848305</td>\n",
       "      <td>0.667864</td>\n",
       "      <td>0.822442</td>\n",
       "      <td>-0.974418</td>\n",
       "      <td>-0.999953</td>\n",
       "      <td>-0.999330</td>\n",
       "      <td>-0.998933</td>\n",
       "      <td>-0.995236</td>\n",
       "      <td>-0.978739</td>\n",
       "      <td>-0.969982</td>\n",
       "      <td>-0.749578</td>\n",
       "      <td>-0.899226</td>\n",
       "      <td>-0.553813</td>\n",
       "      <td>0.174684</td>\n",
       "      <td>-0.051332</td>\n",
       "      <td>0.034200</td>\n",
       "      <td>0.153639</td>\n",
       "      <td>0.030767</td>\n",
       "      <td>-0.129277</td>\n",
       "      <td>0.446100</td>\n",
       "      <td>-0.419496</td>\n",
       "      <td>0.271493</td>\n",
       "      <td>-0.225769</td>\n",
       "      <td>0.416376</td>\n",
       "      <td>-0.286445</td>\n",
       "      <td>-0.063792</td>\n",
       "      <td>-0.167111</td>\n",
       "      <td>0.544916</td>\n",
       "      <td>...</td>\n",
       "      <td>-0.968254</td>\n",
       "      <td>0.148649</td>\n",
       "      <td>-0.619905</td>\n",
       "      <td>-0.887178</td>\n",
       "      <td>-0.976297</td>\n",
       "      <td>-0.971248</td>\n",
       "      <td>-0.966029</td>\n",
       "      <td>-0.974878</td>\n",
       "      <td>-0.996129</td>\n",
       "      <td>-0.976297</td>\n",
       "      <td>-0.999458</td>\n",
       "      <td>-0.975174</td>\n",
       "      <td>-0.566733</td>\n",
       "      <td>-0.948718</td>\n",
       "      <td>-0.285636</td>\n",
       "      <td>-0.446478</td>\n",
       "      <td>-0.756855</td>\n",
       "      <td>-0.985562</td>\n",
       "      <td>-0.985843</td>\n",
       "      <td>-0.984217</td>\n",
       "      <td>-0.988566</td>\n",
       "      <td>-0.992021</td>\n",
       "      <td>-0.985562</td>\n",
       "      <td>-0.999850</td>\n",
       "      <td>-0.984015</td>\n",
       "      <td>-0.849081</td>\n",
       "      <td>-0.936508</td>\n",
       "      <td>0.116695</td>\n",
       "      <td>-0.344418</td>\n",
       "      <td>-0.736124</td>\n",
       "      <td>-0.017067</td>\n",
       "      <td>0.154438</td>\n",
       "      <td>0.340134</td>\n",
       "      <td>0.296407</td>\n",
       "      <td>-0.698954</td>\n",
       "      <td>0.284114</td>\n",
       "      <td>-0.077108</td>\n",
       "      <td>2</td>\n",
       "      <td>5</td>\n",
       "      <td>STANDING</td>\n",
       "    </tr>\n",
       "    <tr>\n",
       "      <th>4</th>\n",
       "      <td>0.274833</td>\n",
       "      <td>-0.027848</td>\n",
       "      <td>-0.129527</td>\n",
       "      <td>-0.993852</td>\n",
       "      <td>-0.967445</td>\n",
       "      <td>-0.978295</td>\n",
       "      <td>-0.994111</td>\n",
       "      <td>-0.965953</td>\n",
       "      <td>-0.977346</td>\n",
       "      <td>-0.938610</td>\n",
       "      <td>-0.560831</td>\n",
       "      <td>-0.825894</td>\n",
       "      <td>0.849179</td>\n",
       "      <td>0.670700</td>\n",
       "      <td>0.829897</td>\n",
       "      <td>-0.975283</td>\n",
       "      <td>-0.999954</td>\n",
       "      <td>-0.999467</td>\n",
       "      <td>-0.998823</td>\n",
       "      <td>-0.993498</td>\n",
       "      <td>-0.967032</td>\n",
       "      <td>-0.976257</td>\n",
       "      <td>-0.590576</td>\n",
       "      <td>-0.740206</td>\n",
       "      <td>-0.799419</td>\n",
       "      <td>0.115570</td>\n",
       "      <td>-0.028923</td>\n",
       "      <td>-0.032804</td>\n",
       "      <td>0.294340</td>\n",
       "      <td>0.000630</td>\n",
       "      <td>-0.045272</td>\n",
       "      <td>0.168419</td>\n",
       "      <td>-0.068156</td>\n",
       "      <td>0.074384</td>\n",
       "      <td>0.027138</td>\n",
       "      <td>-0.145931</td>\n",
       "      <td>-0.050197</td>\n",
       "      <td>0.235151</td>\n",
       "      <td>0.290487</td>\n",
       "      <td>0.457718</td>\n",
       "      <td>...</td>\n",
       "      <td>-0.809524</td>\n",
       "      <td>0.422249</td>\n",
       "      <td>-0.543096</td>\n",
       "      <td>-0.831313</td>\n",
       "      <td>-0.977007</td>\n",
       "      <td>-0.969619</td>\n",
       "      <td>-0.968915</td>\n",
       "      <td>-0.973746</td>\n",
       "      <td>-0.996970</td>\n",
       "      <td>-0.977007</td>\n",
       "      <td>-0.999429</td>\n",
       "      <td>-0.976111</td>\n",
       "      <td>-0.555564</td>\n",
       "      <td>-1.000000</td>\n",
       "      <td>-0.349061</td>\n",
       "      <td>-0.319763</td>\n",
       "      <td>-0.691739</td>\n",
       "      <td>-0.990498</td>\n",
       "      <td>-0.990572</td>\n",
       "      <td>-0.988406</td>\n",
       "      <td>-0.992653</td>\n",
       "      <td>-0.992505</td>\n",
       "      <td>-0.990498</td>\n",
       "      <td>-0.999925</td>\n",
       "      <td>-0.986376</td>\n",
       "      <td>-0.895847</td>\n",
       "      <td>-0.936508</td>\n",
       "      <td>-0.121711</td>\n",
       "      <td>-0.534685</td>\n",
       "      <td>-0.846595</td>\n",
       "      <td>-0.002223</td>\n",
       "      <td>-0.040046</td>\n",
       "      <td>0.736715</td>\n",
       "      <td>-0.118545</td>\n",
       "      <td>-0.692245</td>\n",
       "      <td>0.290722</td>\n",
       "      <td>-0.073857</td>\n",
       "      <td>2</td>\n",
       "      <td>5</td>\n",
       "      <td>STANDING</td>\n",
       "    </tr>\n",
       "  </tbody>\n",
       "</table>\n",
       "<p>5 rows × 564 columns</p>\n",
       "</div>"
      ],
      "text/plain": [
       "   tBodyAccmeanX  tBodyAccmeanY  ...  Activity  Activity_Name\n",
       "0       0.257178      -0.023285  ...         5       STANDING\n",
       "1       0.286027      -0.013163  ...         5       STANDING\n",
       "2       0.275485      -0.026050  ...         5       STANDING\n",
       "3       0.270298      -0.032614  ...         5       STANDING\n",
       "4       0.274833      -0.027848  ...         5       STANDING\n",
       "\n",
       "[5 rows x 564 columns]"
      ]
     },
     "execution_count": 11,
     "metadata": {
      "tags": []
     },
     "output_type": "execute_result"
    }
   ],
   "source": [
    "#Now lets get all the the dataframes into one file.\n",
    "test = X_test\n",
    "test['Activity'], test['Activity_Name'] = y_test['Activity'], y_test['Activity_Name']\n",
    "test.head()"
   ]
  },
  {
   "cell_type": "markdown",
   "metadata": {
    "colab_type": "text",
    "id": "IIajF1vy238L"
   },
   "source": [
    "**Preprocess Data:**"
   ]
  },
  {
   "cell_type": "markdown",
   "metadata": {
    "colab_type": "text",
    "id": "pK8n3TWXiELo"
   },
   "source": [
    "Checking Null Values"
   ]
  },
  {
   "cell_type": "code",
   "execution_count": 12,
   "metadata": {
    "colab": {
     "base_uri": "https://localhost:8080/",
     "height": 52
    },
    "colab_type": "code",
    "id": "MFKRim-W3AyA",
    "outputId": "16b561c7-0017-450c-8d48-195bd428f3b5"
   },
   "outputs": [
    {
     "name": "stdout",
     "output_type": "stream",
     "text": [
      "NAN or Null in Train: 0\n",
      "NAN or Null in Train: 0\n"
     ]
    }
   ],
   "source": [
    "#Lets check if there's any NAN value??\n",
    "print('NAN or Null in Train: {}'.format(train.isnull().values.sum()))\n",
    "print('NAN or Null in Train: {}'.format(test.isnull().values.sum()))"
   ]
  },
  {
   "cell_type": "markdown",
   "metadata": {
    "colab_type": "text",
    "id": "7BSejNzuiJkq"
   },
   "source": [
    "Checking if there are any duplicate rows in the data. "
   ]
  },
  {
   "cell_type": "code",
   "execution_count": 13,
   "metadata": {
    "colab": {
     "base_uri": "https://localhost:8080/",
     "height": 52
    },
    "colab_type": "code",
    "id": "j62D1eXxMPBx",
    "outputId": "8979c3ab-738c-45fb-da95-1cd2bb274cf8"
   },
   "outputs": [
    {
     "name": "stdout",
     "output_type": "stream",
     "text": [
      "No of duplicates in train: 0\n",
      "No of duplicates in test : 0\n"
     ]
    }
   ],
   "source": [
    "#Checking if there are any duplicates. \n",
    "print('No of duplicates in train: {}'.format(sum(train.duplicated())))\n",
    "print('No of duplicates in test : {}'.format(sum(test.duplicated())))"
   ]
  },
  {
   "cell_type": "code",
   "execution_count": 14,
   "metadata": {
    "colab": {
     "base_uri": "https://localhost:8080/",
     "height": 72
    },
    "colab_type": "code",
    "id": "ZaL9ZZnVMc1u",
    "outputId": "ff56f9d0-9df0-4ce2-b5bb-f5b8e710e976"
   },
   "outputs": [
    {
     "name": "stderr",
     "output_type": "stream",
     "text": [
      "/usr/local/lib/python3.6/dist-packages/statsmodels/tools/_testing.py:19: FutureWarning: pandas.util.testing is deprecated. Use the functions in the public API at pandas.testing instead.\n",
      "  import pandas.util.testing as tm\n"
     ]
    }
   ],
   "source": [
    "#importing plotting modules, to visualize the data and get insights from it. \n",
    "import matplotlib.pyplot as plt\n",
    "import seaborn as sns"
   ]
  },
  {
   "cell_type": "code",
   "execution_count": 15,
   "metadata": {
    "colab": {
     "base_uri": "https://localhost:8080/",
     "height": 765
    },
    "colab_type": "code",
    "id": "s65AdODzLhmw",
    "outputId": "e67c1da2-0095-4515-d983-44b6074d01eb"
   },
   "outputs": [
    {
     "data": {
      "image/png": "[encoded data removed]",
      "text/plain": [
       "<Figure size 720x360 with 1 Axes>"
      ]
     },
     "metadata": {
      "needs_background": "light",
      "tags": []
     },
     "output_type": "display_data"
    },
    {
     "name": "stdout",
     "output_type": "stream",
     "text": [
      "Number of features in Train_dataset: 7352\n",
      "25    409\n",
      "21    408\n",
      "26    392\n",
      "30    383\n",
      "28    382\n",
      "27    376\n",
      "23    372\n",
      "17    368\n",
      "16    366\n",
      "19    360\n",
      "1     347\n",
      "29    344\n",
      "3     341\n",
      "15    328\n",
      "6     325\n",
      "14    323\n",
      "22    321\n",
      "11    316\n",
      "7     308\n",
      "5     302\n",
      "8     281\n",
      "Name: subject, dtype: int64\n"
     ]
    }
   ],
   "source": [
    "plt.figure(figsize=(10,5))#Figure size of the plot\n",
    "plt.title('No of Datapoints per Subject', fontsize = 20)#Title name and Font size of the title. \n",
    "sns.countplot(train.subject)#Count plot sytax on suject column. \n",
    "plt.xticks(rotation = 90)#As X variables are strings, they cannot be row format, it would be overlapping. So rotating it to 90. \n",
    "plt.show()#shows the plot. \n",
    "#Obervation:\n",
    "#All of the data points are equally available for each and every Subject\n",
    "print(\"Number of features in Train_dataset: {}\".format(train.shape[0]))\n",
    "print(train.subject.value_counts())\n",
    " #All the data points are decently collected for each subjects. "
   ]
  },
  {
   "cell_type": "code",
   "execution_count": 16,
   "metadata": {
    "colab": {
     "base_uri": "https://localhost:8080/",
     "height": 552
    },
    "colab_type": "code",
    "id": "cs8-dO1B7T9f",
    "outputId": "8d61963c-9e9f-4567-f0d5-7776b8f46fa1"
   },
   "outputs": [
    {
     "data": {
      "image/png": "[encoded data removed]",
      "text/plain": [
       "<Figure size 432x288 with 1 Axes>"
      ]
     },
     "metadata": {
      "tags": []
     },
     "output_type": "display_data"
    },
    {
     "name": "stdout",
     "output_type": "stream",
     "text": [
      "Number of features in Train_dataset: 7352\n",
      "LAYING                1407\n",
      "STANDING              1374\n",
      "SITTING               1286\n",
      "WALKING               1226\n",
      "WALKING_UPSTAIRS      1073\n",
      "WALKING_DOWNSTAIRS     986\n",
      "Name: Activity_Name, dtype: int64\n"
     ]
    }
   ],
   "source": [
    "sns.set_style('whitegrid')#Background style of the grid. \n",
    "plt.title('No of Datapoints per Activity', fontsize = 20)#Title name and Font size of the title.\n",
    "sns.countplot(train.Activity_Name)#Count plot sytax on suject column.\n",
    "plt.xticks(rotation = 90)#As X variables are strings, they cannot be row format, it would be overlapping. So rotating it to 90.\n",
    "plt.show()\n",
    "#Obervation:\n",
    "#All of the data points are equally available for each and every activity\n",
    "print(\"Number of features in Train_dataset: {}\".format(train.shape[0]))\n",
    "print(train.Activity_Name.value_counts())\n",
    "#No of data points per activity is less for Walking_dowstairs and Walking upstairs. \n",
    "#Most probably, as the person has to walk up and down, physical strain would be high. "
   ]
  },
  {
   "cell_type": "markdown",
   "metadata": {
    "colab_type": "text",
    "id": "_FzGD1VzABbQ"
   },
   "source": [
    "**EDA - Exploratory Data Analysis**"
   ]
  },
  {
   "cell_type": "code",
   "execution_count": 0,
   "metadata": {
    "colab": {},
    "colab_type": "code",
    "id": "xqNZKqO_AHK9"
   },
   "outputs": [],
   "source": [
    "#As there are large number of features. We can apply TSNE and Visualize the data with respective to y variables. \n",
    "#t-Distributed Stochastic Neighbor Embedding\n",
    "from sklearn.manifold import TSNE"
   ]
  },
  {
   "cell_type": "code",
   "execution_count": 0,
   "metadata": {
    "colab": {},
    "colab_type": "code",
    "id": "5VpzDX9gQhlr"
   },
   "outputs": [],
   "source": [
    "X = train.drop(['subject', 'Activity','Activity_Name'], axis = 1)#Assgning the X columns\n",
    "y = train['Activity_Name']#Y "
   ]
  },
  {
   "cell_type": "code",
   "execution_count": 0,
   "metadata": {
    "colab": {},
    "colab_type": "code",
    "id": "EJQg6LzJd2e0"
   },
   "outputs": [],
   "source": [
    "X_embedded = TSNE(n_components=2).fit_transform(X)#perplexity=30.0 Default. "
   ]
  },
  {
   "cell_type": "code",
   "execution_count": 0,
   "metadata": {
    "colab": {},
    "colab_type": "code",
    "id": "yc7hDXw_RMKX"
   },
   "outputs": [],
   "source": [
    "tsne = pd.DataFrame({'x':X_embedded[:,0], 'y':X_embedded[:,1] ,'label':y})#Reducing the demensionality of the data from 561 to 2. "
   ]
  },
  {
   "cell_type": "code",
   "execution_count": 21,
   "metadata": {
    "colab": {
     "base_uri": "https://localhost:8080/",
     "height": 678
    },
    "colab_type": "code",
    "id": "sQ3dPVyxRMUZ",
    "outputId": "0c3bcf34-cf90-48ea-df78-cda75a1c8e1b"
   },
   "outputs": [
    {
     "name": "stderr",
     "output_type": "stream",
     "text": [
      "/usr/local/lib/python3.6/dist-packages/seaborn/regression.py:574: UserWarning: The `size` parameter has been renamed to `height`; please update your code.\n",
      "  warnings.warn(msg, UserWarning)\n"
     ]
    },
    {
     "data": {
      "text/plain": [
       "Text(0.5, 1.0, 'TSNE Visualiztion')"
      ]
     },
     "execution_count": 21,
     "metadata": {
      "tags": []
     },
     "output_type": "execute_result"
    },
    {
     "data": {
      "image/png": "[encoded data removed]",
      "text/plain": [
       "<Figure size 730.625x576 with 1 Axes>"
      ]
     },
     "metadata": {
      "tags": []
     },
     "output_type": "display_data"
    }
   ],
   "source": [
    "sns.lmplot(data=tsne, x='x', y='y', hue='label', fit_reg=False, size=8,\\\n",
    "                   palette=\"Set1\",markers=['^','v','s','o', '1','2'])#Assigning tsne converted data. \n",
    "plt.title(\"TSNE Visualiztion\", fontsize = 20)\n",
    "#Observation:\n",
    "#This data was too huge and as many features that were determined by Domain Experts. \n",
    "#Each of the features are from Mean, Standard Deviation, Kurtosis and so on. \n",
    "#We have to visualize all the columns in the data and see which one is the best to Predict the activity. \n",
    "#TSNE - t-Distributed Stochastic Neighbor Embedding, is a tool to visualize high-dimensional data.\n",
    "#As you see, standing and sitting are overlapping with each, there might not be much of the physical activity when you sit or stand.\n",
    "#So most of the standing data points are falling in the same region.\n",
    "#Our utimate goal is to distinguish the Activity based on the data collected."
   ]
  },
  {
   "cell_type": "markdown",
   "metadata": {
    "colab_type": "text",
    "id": "u8f1TZuwUeho"
   },
   "source": [
    "**Model Building:**"
   ]
  },
  {
   "cell_type": "code",
   "execution_count": 0,
   "metadata": {
    "colab": {},
    "colab_type": "code",
    "id": "kFvji-2jUdo5"
   },
   "outputs": [],
   "source": [
    "#Train data x and y \n",
    "X_train = train.drop(['subject', 'Activity','Activity_Name'], axis = 1)\n",
    "y_train = train.Activity_Name"
   ]
  },
  {
   "cell_type": "code",
   "execution_count": 0,
   "metadata": {
    "colab": {},
    "colab_type": "code",
    "id": "vFI-dmbKUdsY"
   },
   "outputs": [],
   "source": [
    "#Test data x and y \n",
    "X_test = test.drop(['subject', 'Activity', 'Activity_Name'], axis=1)\n",
    "y_test = test.Activity_Name"
   ]
  },
  {
   "cell_type": "code",
   "execution_count": 24,
   "metadata": {
    "colab": {
     "base_uri": "https://localhost:8080/",
     "height": 87
    },
    "colab_type": "code",
    "id": "ZkSeXyTLVO3M",
    "outputId": "16556070-07ef-40af-c0e6-7903581a39d2"
   },
   "outputs": [
    {
     "name": "stdout",
     "output_type": "stream",
     "text": [
      "X_train Dimensions: (7352, 561)\n",
      "y_train Dimensions: (7352,)\n",
      "X_test Dimensions: (2947, 561)\n",
      "y_test Dimensions: (2947,)\n"
     ]
    }
   ],
   "source": [
    "print('X_train Dimensions: {}'.format(X_train.shape))\n",
    "print('y_train Dimensions: {}'.format(y_train.shape))\n",
    "print('X_test Dimensions: {}'.format(X_test.shape))\n",
    "print('y_test Dimensions: {}'.format(y_test.shape))"
   ]
  },
  {
   "cell_type": "code",
   "execution_count": 0,
   "metadata": {
    "colab": {},
    "colab_type": "code",
    "id": "k4htNxSkbVPg"
   },
   "outputs": [],
   "source": [
    "labels=['LAYING', 'SITTING','STANDING','WALKING','WALKING_DOWNSTAIRS','WALKING_UPSTAIRS']"
   ]
  },
  {
   "cell_type": "code",
   "execution_count": 0,
   "metadata": {
    "colab": {},
    "colab_type": "code",
    "id": "TxPA3YCjVjjo"
   },
   "outputs": [],
   "source": [
    "from sklearn.metrics import classification_report \n",
    "from sklearn.metrics import confusion_matrix\n",
    "from sklearn.linear_model import LogisticRegression"
   ]
  },
  {
   "cell_type": "markdown",
   "metadata": {
    "colab_type": "text",
    "id": "Vrgdz5bRgjE7"
   },
   "source": [
    "**Logistic Regression Using Multinomial, class = Balanced.**"
   ]
  },
  {
   "cell_type": "code",
   "execution_count": 0,
   "metadata": {
    "colab": {},
    "colab_type": "code",
    "id": "qLlq_qi8XFfl"
   },
   "outputs": [],
   "source": [
    "#Lets build a simple Logistic regression Multinomial.\n",
    "#As there are six classes in this data set, we can assign multi_class as Multinomial and weights of the class as balanced. \n",
    "#This way, it will give equal importance to each and every class. \n",
    "lr = LogisticRegression(class_weight = 'balanced',multi_class='multinomial', solver='newton-cg')"
   ]
  },
  {
   "cell_type": "code",
   "execution_count": 28,
   "metadata": {
    "colab": {
     "base_uri": "https://localhost:8080/",
     "height": 105
    },
    "colab_type": "code",
    "id": "EIXZTt5HZIXo",
    "outputId": "61930c51-fd9b-4b7b-9ffe-ac126f7df310"
   },
   "outputs": [
    {
     "data": {
      "text/plain": [
       "LogisticRegression(C=1.0, class_weight='balanced', dual=False,\n",
       "                   fit_intercept=True, intercept_scaling=1, l1_ratio=None,\n",
       "                   max_iter=100, multi_class='multinomial', n_jobs=None,\n",
       "                   penalty='l2', random_state=None, solver='newton-cg',\n",
       "                   tol=0.0001, verbose=0, warm_start=False)"
      ]
     },
     "execution_count": 28,
     "metadata": {
      "tags": []
     },
     "output_type": "execute_result"
    }
   ],
   "source": [
    "lr.fit(X_train,y_train)#Fitting X and y in to logistic model. "
   ]
  },
  {
   "cell_type": "code",
   "execution_count": 0,
   "metadata": {
    "colab": {},
    "colab_type": "code",
    "id": "BsKaEXMcZTsI"
   },
   "outputs": [],
   "source": [
    "#Predicting y for both train and test. \n",
    "y_train_pred = lr.predict(X_train)\n",
    "y_test_pred = lr.predict(X_test)"
   ]
  },
  {
   "cell_type": "code",
   "execution_count": 30,
   "metadata": {
    "colab": {
     "base_uri": "https://localhost:8080/",
     "height": 247
    },
    "colab_type": "code",
    "id": "kKQUVleFfNgw",
    "outputId": "36ee407e-0a04-422a-d48d-5e20ef767b17"
   },
   "outputs": [
    {
     "name": "stdout",
     "output_type": "stream",
     "text": [
      "                    precision    recall  f1-score   support\n",
      "\n",
      "            LAYING       1.00      1.00      1.00      1407\n",
      "           SITTING       0.98      0.98      0.98      1286\n",
      "          STANDING       0.98      0.98      0.98      1374\n",
      "           WALKING       1.00      1.00      1.00      1226\n",
      "WALKING_DOWNSTAIRS       1.00      1.00      1.00       986\n",
      "  WALKING_UPSTAIRS       1.00      1.00      1.00      1073\n",
      "\n",
      "          accuracy                           0.99      7352\n",
      "         macro avg       0.99      0.99      0.99      7352\n",
      "      weighted avg       0.99      0.99      0.99      7352\n",
      "\n"
     ]
    }
   ],
   "source": [
    "#Classification Report for Train data. \n",
    "#As you see, simple Logistic regression has trained trained itself.  \n",
    "print(classification_report(y_train, y_train_pred))"
   ]
  },
  {
   "cell_type": "code",
   "execution_count": 31,
   "metadata": {
    "colab": {
     "base_uri": "https://localhost:8080/",
     "height": 247
    },
    "colab_type": "code",
    "id": "1tyfVX2DaDfP",
    "outputId": "30ac3631-f196-40af-c6d0-cf3914e5a4ff"
   },
   "outputs": [
    {
     "name": "stdout",
     "output_type": "stream",
     "text": [
      "                    precision    recall  f1-score   support\n",
      "\n",
      "            LAYING       1.00      1.00      1.00       537\n",
      "           SITTING       0.97      0.88      0.92       491\n",
      "          STANDING       0.90      0.97      0.94       532\n",
      "           WALKING       0.94      0.99      0.97       496\n",
      "WALKING_DOWNSTAIRS       0.99      0.97      0.98       420\n",
      "  WALKING_UPSTAIRS       0.97      0.95      0.96       471\n",
      "\n",
      "          accuracy                           0.96      2947\n",
      "         macro avg       0.96      0.96      0.96      2947\n",
      "      weighted avg       0.96      0.96      0.96      2947\n",
      "\n"
     ]
    }
   ],
   "source": [
    "#Simple Logistic Regression with L2 penalty, Class weight = Balanced and multi_class='multinomial'.\n",
    "#Data is not overfitting.\n",
    "print(classification_report(y_test, y_test_pred))"
   ]
  },
  {
   "cell_type": "code",
   "execution_count": 32,
   "metadata": {
    "colab": {
     "base_uri": "https://localhost:8080/",
     "height": 484
    },
    "colab_type": "code",
    "id": "2_PEDafkj360",
    "outputId": "3374ef4a-9910-4ae0-fd5d-83a70fdaf7d9"
   },
   "outputs": [
    {
     "data": {
      "image/png": "[encoded data removed]",
      "text/plain": [
       "<Figure size 432x288 with 1 Axes>"
      ]
     },
     "metadata": {
      "tags": []
     },
     "output_type": "display_data"
    }
   ],
   "source": [
    "#As you see, while the model was building - training linearly constantly. \n",
    "#as the set size was increasing, the prediction is improving gradually. \n",
    "from mlxtend.plotting import plot_learning_curves\n",
    "plot_learning_curves(X_train, y_train, X_test, y_test, lr,scoring = \"accuracy\")\n",
    "plt.show()"
   ]
  },
  {
   "cell_type": "markdown",
   "metadata": {
    "colab_type": "text",
    "id": "qqv81RrHjdEA"
   },
   "source": [
    "**Support Vector Classifier**"
   ]
  },
  {
   "cell_type": "code",
   "execution_count": 0,
   "metadata": {
    "colab": {},
    "colab_type": "code",
    "id": "snElns8ehCGs"
   },
   "outputs": [],
   "source": [
    "#SVC module. \n",
    "from sklearn.svm import SVC\n",
    "from sklearn.model_selection import GridSearchCV"
   ]
  },
  {
   "cell_type": "code",
   "execution_count": 0,
   "metadata": {
    "colab": {},
    "colab_type": "code",
    "id": "LmE5afSphCPD"
   },
   "outputs": [],
   "source": [
    "rbf_svm = SVC(kernel='rbf')# Support vector classifer with kernel rbf.\n",
    "#rbf kernel can be used to most of the non-linear data seperation. "
   ]
  },
  {
   "cell_type": "code",
   "execution_count": 35,
   "metadata": {
    "colab": {
     "base_uri": "https://localhost:8080/",
     "height": 87
    },
    "colab_type": "code",
    "id": "BeCdmzSzhCMN",
    "outputId": "e0c45496-481c-400a-a2c9-c2148ed33197"
   },
   "outputs": [
    {
     "data": {
      "text/plain": [
       "SVC(C=1.0, break_ties=False, cache_size=200, class_weight=None, coef0=0.0,\n",
       "    decision_function_shape='ovr', degree=3, gamma='scale', kernel='rbf',\n",
       "    max_iter=-1, probability=False, random_state=None, shrinking=True,\n",
       "    tol=0.001, verbose=False)"
      ]
     },
     "execution_count": 35,
     "metadata": {
      "tags": []
     },
     "output_type": "execute_result"
    }
   ],
   "source": [
    "rbf_svm.fit(X_train, y_train)#Fitting X and y in to the model. "
   ]
  },
  {
   "cell_type": "code",
   "execution_count": 0,
   "metadata": {
    "colab": {},
    "colab_type": "code",
    "id": "0qCxXXByhCKm"
   },
   "outputs": [],
   "source": [
    "#predicting on train and test.  \n",
    "y_train_pred = rbf_svm.predict(X_train)\n",
    "y_test_pred = rbf_svm.predict(X_test)"
   ]
  },
  {
   "cell_type": "code",
   "execution_count": 37,
   "metadata": {
    "colab": {
     "base_uri": "https://localhost:8080/",
     "height": 247
    },
    "colab_type": "code",
    "id": "RTKopkwfemz7",
    "outputId": "69ad4561-4846-4a5e-bcc5-daa0588e836e"
   },
   "outputs": [
    {
     "name": "stdout",
     "output_type": "stream",
     "text": [
      "                    precision    recall  f1-score   support\n",
      "\n",
      "            LAYING       1.00      1.00      1.00      1407\n",
      "           SITTING       0.94      0.94      0.94      1286\n",
      "          STANDING       0.95      0.95      0.95      1374\n",
      "           WALKING       1.00      1.00      1.00      1226\n",
      "WALKING_DOWNSTAIRS       1.00      1.00      1.00       986\n",
      "  WALKING_UPSTAIRS       1.00      1.00      1.00      1073\n",
      "\n",
      "          accuracy                           0.98      7352\n",
      "         macro avg       0.98      0.98      0.98      7352\n",
      "      weighted avg       0.98      0.98      0.98      7352\n",
      "\n"
     ]
    }
   ],
   "source": [
    "#Classification Report on train. \n",
    "print(classification_report(y_train, y_train_pred))"
   ]
  },
  {
   "cell_type": "code",
   "execution_count": 38,
   "metadata": {
    "colab": {
     "base_uri": "https://localhost:8080/",
     "height": 247
    },
    "colab_type": "code",
    "id": "YEGRK31Ahdmv",
    "outputId": "587f9573-ff94-49eb-c9cd-462d4c6fcb21"
   },
   "outputs": [
    {
     "name": "stdout",
     "output_type": "stream",
     "text": [
      "                    precision    recall  f1-score   support\n",
      "\n",
      "            LAYING       1.00      1.00      1.00       537\n",
      "           SITTING       0.94      0.89      0.91       491\n",
      "          STANDING       0.91      0.95      0.93       532\n",
      "           WALKING       0.94      0.98      0.96       496\n",
      "WALKING_DOWNSTAIRS       0.99      0.91      0.95       420\n",
      "  WALKING_UPSTAIRS       0.93      0.96      0.94       471\n",
      "\n",
      "          accuracy                           0.95      2947\n",
      "         macro avg       0.95      0.95      0.95      2947\n",
      "      weighted avg       0.95      0.95      0.95      2947\n",
      "\n"
     ]
    }
   ],
   "source": [
    "#Classification report on train. \n",
    "print(classification_report(y_test, y_test_pred))"
   ]
  },
  {
   "cell_type": "code",
   "execution_count": 39,
   "metadata": {
    "colab": {
     "base_uri": "https://localhost:8080/",
     "height": 460
    },
    "colab_type": "code",
    "id": "kU-ZQo9NkIf3",
    "outputId": "8bf3cb4d-271e-416e-d6cf-7cc6cdbc6d18"
   },
   "outputs": [
    {
     "data": {
      "image/png": "[encoded data removed]",
      "text/plain": [
       "<Figure size 432x288 with 1 Axes>"
      ]
     },
     "metadata": {
      "tags": []
     },
     "output_type": "display_data"
    }
   ],
   "source": [
    "#As you see, while the model was building - training linearly constantly. \n",
    "#as the set size was increasing, the prediction is improving gradually. \n",
    "plot_learning_curves(X_train, y_train, X_test, y_test, rbf_svm, scoring='accuracy')\n",
    "plt.show()"
   ]
  },
  {
   "cell_type": "markdown",
   "metadata": {
    "colab_type": "text",
    "id": "LI63ocx7lTXu"
   },
   "source": [
    "As you see, support vector machine - one the best classifier is performing the same as logistic regression. "
   ]
  },
  {
   "cell_type": "markdown",
   "metadata": {
    "colab_type": "text",
    "id": "kwrf8NiEjjY0"
   },
   "source": [
    "**Support Vector Classifier with GridsearchCV**"
   ]
  },
  {
   "cell_type": "code",
   "execution_count": 0,
   "metadata": {
    "colab": {},
    "colab_type": "code",
    "id": "uaj6RIN0hx8K"
   },
   "outputs": [],
   "source": [
    "parameters = {'C':[2,8,16],'gamma': [ 0.0078125, 0.125, 2]}#Hyper-parameters for grid search. \n",
    "rbf_svm_grid = GridSearchCV(rbf_svm,param_grid=parameters, n_jobs=-1)"
   ]
  },
  {
   "cell_type": "code",
   "execution_count": 41,
   "metadata": {
    "colab": {
     "base_uri": "https://localhost:8080/",
     "height": 212
    },
    "colab_type": "code",
    "id": "ofOKFnlmiplV",
    "outputId": "7ade7de8-1efd-4825-b355-ca0b602c4fd8"
   },
   "outputs": [
    {
     "data": {
      "text/plain": [
       "GridSearchCV(cv=None, error_score=nan,\n",
       "             estimator=SVC(C=1.0, break_ties=False, cache_size=200,\n",
       "                           class_weight=None, coef0=0.0,\n",
       "                           decision_function_shape='ovr', degree=3,\n",
       "                           gamma='scale', kernel='rbf', max_iter=-1,\n",
       "                           probability=False, random_state=None, shrinking=True,\n",
       "                           tol=0.001, verbose=False),\n",
       "             iid='deprecated', n_jobs=-1,\n",
       "             param_grid={'C': [2, 8, 16], 'gamma': [0.0078125, 0.125, 2]},\n",
       "             pre_dispatch='2*n_jobs', refit=True, return_train_score=False,\n",
       "             scoring=None, verbose=0)"
      ]
     },
     "execution_count": 41,
     "metadata": {
      "tags": []
     },
     "output_type": "execute_result"
    }
   ],
   "source": [
    "rbf_svm_grid.fit(X_train, y_train)#Firring train x and y variable"
   ]
  },
  {
   "cell_type": "code",
   "execution_count": 0,
   "metadata": {
    "colab": {},
    "colab_type": "code",
    "id": "HASZzT92izMp"
   },
   "outputs": [],
   "source": [
    "#predicting on feature variable train \n",
    "y_train_pred = rbf_svm_grid.predict(X_train)\n",
    "y_test_pred = rbf_svm_grid.predict(X_test)"
   ]
  },
  {
   "cell_type": "code",
   "execution_count": 43,
   "metadata": {
    "colab": {
     "base_uri": "https://localhost:8080/",
     "height": 247
    },
    "colab_type": "code",
    "id": "TFl_0BFyi2q3",
    "outputId": "8d4284fc-81e6-4dbf-d7c6-690fb387e451"
   },
   "outputs": [
    {
     "name": "stdout",
     "output_type": "stream",
     "text": [
      "                    precision    recall  f1-score   support\n",
      "\n",
      "            LAYING       1.00      1.00      1.00      1407\n",
      "           SITTING       0.99      0.99      0.99      1286\n",
      "          STANDING       0.99      0.99      0.99      1374\n",
      "           WALKING       1.00      1.00      1.00      1226\n",
      "WALKING_DOWNSTAIRS       1.00      1.00      1.00       986\n",
      "  WALKING_UPSTAIRS       1.00      1.00      1.00      1073\n",
      "\n",
      "          accuracy                           1.00      7352\n",
      "         macro avg       1.00      1.00      1.00      7352\n",
      "      weighted avg       1.00      1.00      1.00      7352\n",
      "\n"
     ]
    }
   ],
   "source": [
    "#Classification Report\n",
    "print(classification_report(y_train, y_train_pred))"
   ]
  },
  {
   "cell_type": "code",
   "execution_count": 44,
   "metadata": {
    "colab": {
     "base_uri": "https://localhost:8080/",
     "height": 247
    },
    "colab_type": "code",
    "id": "uOPGaZ0Ti2z9",
    "outputId": "6697d0c0-cb58-4de2-a5a2-6f77326b2a58"
   },
   "outputs": [
    {
     "name": "stdout",
     "output_type": "stream",
     "text": [
      "                    precision    recall  f1-score   support\n",
      "\n",
      "            LAYING       1.00      1.00      1.00       537\n",
      "           SITTING       0.97      0.90      0.93       491\n",
      "          STANDING       0.92      0.98      0.95       532\n",
      "           WALKING       0.96      0.99      0.97       496\n",
      "WALKING_DOWNSTAIRS       0.99      0.95      0.97       420\n",
      "  WALKING_UPSTAIRS       0.95      0.96      0.95       471\n",
      "\n",
      "          accuracy                           0.96      2947\n",
      "         macro avg       0.96      0.96      0.96      2947\n",
      "      weighted avg       0.96      0.96      0.96      2947\n",
      "\n"
     ]
    }
   ],
   "source": [
    "#Grid search cv is performing the same as Normal support vector machine with RBF Kernel. \n",
    "print(classification_report(y_test, y_test_pred))"
   ]
  },
  {
   "cell_type": "code",
   "execution_count": 45,
   "metadata": {
    "colab": {
     "base_uri": "https://localhost:8080/",
     "height": 620
    },
    "colab_type": "code",
    "id": "6wF6twQVkKFM",
    "outputId": "0fe5acb5-6535-470a-f071-c123ad14c439"
   },
   "outputs": [
    {
     "data": {
      "image/png": "[encoded data removed]",
      "text/plain": [
       "<Figure size 432x288 with 1 Axes>"
      ]
     },
     "metadata": {
      "tags": []
     },
     "output_type": "display_data"
    }
   ],
   "source": [
    "#As you see, while the model was building - training linearly constantly. \n",
    "#as the set size was increasing, the prediction is improving gradually. \n",
    "plot_learning_curves(X_train, y_train, X_test, y_test, rbf_svm_grid,scoring = \"accuracy\")\n",
    "plt.show()"
   ]
  },
  {
   "cell_type": "markdown",
   "metadata": {
    "colab_type": "text",
    "id": "5PwLNWcPlvDo"
   },
   "source": [
    "Observation:\n",
    "Not much of the difference. "
   ]
  },
  {
   "cell_type": "code",
   "execution_count": 0,
   "metadata": {
    "colab": {},
    "colab_type": "code",
    "id": "McdRdY4lomVt"
   },
   "outputs": [],
   "source": [
    "from sklearn.preprocessing import OneHotEncoder\n",
    "ohe = OneHotEncoder()\n",
    "Y_Tr = ohe.fit_transform(y_train.values.reshape(-1,1))#One hot encoding on each activity class. \n",
    "Y_te = ohe.transform(y_test.values.reshape(-1,1))#One hot encoding on each activity class. "
   ]
  },
  {
   "cell_type": "code",
   "execution_count": 0,
   "metadata": {
    "colab": {},
    "colab_type": "code",
    "id": "JW7pMY6xoWs4"
   },
   "outputs": [],
   "source": [
    "#Model parameters.\n",
    "output_dim = Y_te.shape[1]#Output Dimension.\n",
    "input_dim = X_train.shape[1]#Input Dimension.\n",
    "batch_size = 128 #Batch size.\n",
    "nb_epoch = 20# number of epochs. "
   ]
  },
  {
   "cell_type": "markdown",
   "metadata": {
    "colab_type": "text",
    "id": "oZg1CtBJj7Aj"
   },
   "source": [
    "As the classifier models are performing the same in Logistic, Support Vector classifier. Let's try applying neural nets on this data.\n",
    "\n",
    "Data:\n",
    "\n",
    "It has 561 features and 7352 rows that were created by the expertise. "
   ]
  },
  {
   "cell_type": "code",
   "execution_count": 49,
   "metadata": {
    "colab": {
     "base_uri": "https://localhost:8080/",
     "height": 34
    },
    "colab_type": "code",
    "id": "N1c66uMNpywy",
    "outputId": "87c48519-f183-44c8-f97f-81848676ad83"
   },
   "outputs": [
    {
     "name": "stderr",
     "output_type": "stream",
     "text": [
      "Using TensorFlow backend.\n"
     ]
    }
   ],
   "source": [
    "#importing required moduels for Nueral nets. \n",
    "from keras.models import Sequential #Sequential format\n",
    "from keras.layers import Dense, Activation #Layers and activation functions. \n",
    "from keras.layers.normalization import BatchNormalization# Normalizing the data. \n",
    "from keras.layers import Dropout# applying drop out. \n",
    "from keras import regularizers#regularizers for the activation fuctions that we are going to use.  \n",
    "import tensorflow as tf#loading tensorflow\n",
    "from keras.layers import LSTM#lstm layer. "
   ]
  },
  {
   "cell_type": "code",
   "execution_count": 51,
   "metadata": {
    "colab": {
     "base_uri": "https://localhost:8080/",
     "height": 478
    },
    "colab_type": "code",
    "id": "bWVwxeTcpmnT",
    "outputId": "0fee3c4f-d4e2-47ed-f9b8-642a3af3ca9d"
   },
   "outputs": [
    {
     "name": "stdout",
     "output_type": "stream",
     "text": [
      "Model: \"sequential_2\"\n",
      "_________________________________________________________________\n",
      "Layer (type)                 Output Shape              Param #   \n",
      "=================================================================\n",
      "dropout_1 (Dropout)          (None, 561)               0         \n",
      "_________________________________________________________________\n",
      "batch_normalization_1 (Batch (None, 561)               2244      \n",
      "_________________________________________________________________\n",
      "dense_2 (Dense)              (None, 512)               287744    \n",
      "_________________________________________________________________\n",
      "batch_normalization_2 (Batch (None, 512)               2048      \n",
      "_________________________________________________________________\n",
      "dropout_2 (Dropout)          (None, 512)               0         \n",
      "_________________________________________________________________\n",
      "dense_3 (Dense)              (None, 256)               131328    \n",
      "_________________________________________________________________\n",
      "batch_normalization_3 (Batch (None, 256)               1024      \n",
      "_________________________________________________________________\n",
      "dropout_3 (Dropout)          (None, 256)               0         \n",
      "_________________________________________________________________\n",
      "dense_4 (Dense)              (None, 6)                 1542      \n",
      "=================================================================\n",
      "Total params: 425,930\n",
      "Trainable params: 423,272\n",
      "Non-trainable params: 2,658\n",
      "_________________________________________________________________\n"
     ]
    }
   ],
   "source": [
    "#Sequential mode. \n",
    "model_sigmoid = Sequential()\n",
    "#Dropout and BatchNormalization on the input data\n",
    "model_sigmoid.add(Dropout(0.5,input_shape=(input_dim,)))\n",
    "model_sigmoid.add(BatchNormalization())\n",
    "#Layer 1 - 512 Neurons, activation - sigmoid, l2 regularization. \n",
    "model_sigmoid.add(Dense(512, activation='sigmoid', kernel_regularizer=regularizers.l2(0.01)))\n",
    "model_sigmoid.add(BatchNormalization())\n",
    "model_sigmoid.add(Dropout(0.5))\n",
    "#Layer 2 - 256 Neurons, activation - sigmoid, l2 regularization.\n",
    "model_sigmoid.add(Dense(256, activation='sigmoid', kernel_regularizer=regularizers.l2(0.01)))\n",
    "model_sigmoid.add(BatchNormalization())\n",
    "model_sigmoid.add(Dropout(0.5))\n",
    "#Layer 3 - Output layer, softmax - As we have to predict multiclass. \n",
    "model_sigmoid.add(Dense(output_dim, activation='softmax'))\n",
    "\n",
    "model_sigmoid.summary()"
   ]
  },
  {
   "cell_type": "code",
   "execution_count": 52,
   "metadata": {
    "colab": {
     "base_uri": "https://localhost:8080/",
     "height": 745
    },
    "colab_type": "code",
    "id": "dgHFk_oVsga2",
    "outputId": "3bb5a04a-ebf5-4afd-e1ae-1a871e9515d0"
   },
   "outputs": [
    {
     "name": "stdout",
     "output_type": "stream",
     "text": [
      "Train on 7352 samples, validate on 2947 samples\n",
      "Epoch 1/20\n",
      "7352/7352 [==============================] - 1s 175us/step - loss: 8.5538 - accuracy: 0.6519 - val_loss: 7.6770 - val_accuracy: 0.2043\n",
      "Epoch 2/20\n",
      "7352/7352 [==============================] - 1s 111us/step - loss: 5.5295 - accuracy: 0.8113 - val_loss: 4.9905 - val_accuracy: 0.7197\n",
      "Epoch 3/20\n",
      "7352/7352 [==============================] - 1s 111us/step - loss: 3.5902 - accuracy: 0.8455 - val_loss: 3.2677 - val_accuracy: 0.8412\n",
      "Epoch 4/20\n",
      "7352/7352 [==============================] - 1s 111us/step - loss: 2.3819 - accuracy: 0.8581 - val_loss: 2.1578 - val_accuracy: 0.8755\n",
      "Epoch 5/20\n",
      "7352/7352 [==============================] - 1s 112us/step - loss: 1.6907 - accuracy: 0.8609 - val_loss: 1.5626 - val_accuracy: 0.8707\n",
      "Epoch 6/20\n",
      "7352/7352 [==============================] - 1s 112us/step - loss: 1.2287 - accuracy: 0.8726 - val_loss: 1.0987 - val_accuracy: 0.9057\n",
      "Epoch 7/20\n",
      "7352/7352 [==============================] - 1s 111us/step - loss: 0.9774 - accuracy: 0.8715 - val_loss: 0.8479 - val_accuracy: 0.9192\n",
      "Epoch 8/20\n",
      "7352/7352 [==============================] - 1s 111us/step - loss: 0.7915 - accuracy: 0.8774 - val_loss: 0.7135 - val_accuracy: 0.9118\n",
      "Epoch 9/20\n",
      "7352/7352 [==============================] - 1s 114us/step - loss: 0.7075 - accuracy: 0.8746 - val_loss: 0.6183 - val_accuracy: 0.9013\n",
      "Epoch 10/20\n",
      "7352/7352 [==============================] - 1s 114us/step - loss: 0.6454 - accuracy: 0.8798 - val_loss: 0.5658 - val_accuracy: 0.9084\n",
      "Epoch 11/20\n",
      "7352/7352 [==============================] - 1s 112us/step - loss: 0.6160 - accuracy: 0.8781 - val_loss: 0.5230 - val_accuracy: 0.9247\n",
      "Epoch 12/20\n",
      "7352/7352 [==============================] - 1s 113us/step - loss: 0.5763 - accuracy: 0.8780 - val_loss: 0.4842 - val_accuracy: 0.9141\n",
      "Epoch 13/20\n",
      "7352/7352 [==============================] - 1s 113us/step - loss: 0.5684 - accuracy: 0.8795 - val_loss: 0.5195 - val_accuracy: 0.8972\n",
      "Epoch 14/20\n",
      "7352/7352 [==============================] - 1s 115us/step - loss: 0.5442 - accuracy: 0.8833 - val_loss: 0.4603 - val_accuracy: 0.9237\n",
      "Epoch 15/20\n",
      "7352/7352 [==============================] - 1s 116us/step - loss: 0.5543 - accuracy: 0.8789 - val_loss: 0.4567 - val_accuracy: 0.9260\n",
      "Epoch 16/20\n",
      "7352/7352 [==============================] - 1s 116us/step - loss: 0.5589 - accuracy: 0.8739 - val_loss: 0.4546 - val_accuracy: 0.9260\n",
      "Epoch 17/20\n",
      "7352/7352 [==============================] - 1s 116us/step - loss: 0.5466 - accuracy: 0.8769 - val_loss: 0.5190 - val_accuracy: 0.8850\n",
      "Epoch 18/20\n",
      "7352/7352 [==============================] - 1s 117us/step - loss: 0.5365 - accuracy: 0.8796 - val_loss: 0.4389 - val_accuracy: 0.9196\n",
      "Epoch 19/20\n",
      "7352/7352 [==============================] - 1s 116us/step - loss: 0.5483 - accuracy: 0.8750 - val_loss: 0.4548 - val_accuracy: 0.9233\n",
      "Epoch 20/20\n",
      "7352/7352 [==============================] - 1s 115us/step - loss: 0.5442 - accuracy: 0.8799 - val_loss: 0.5487 - val_accuracy: 0.8571\n"
     ]
    }
   ],
   "source": [
    "#compling the model using adaptive optimizer, categorical cross entropy for loss, metrics  - accuracy. \n",
    "model_sigmoid.compile(optimizer='adam', loss='categorical_crossentropy', metrics=['accuracy'])\n",
    "history = model_sigmoid.fit(X_train, Y_Tr, batch_size=batch_size, epochs=nb_epoch, verbose=1, validation_data=(X_test, Y_te))"
   ]
  },
  {
   "cell_type": "markdown",
   "metadata": {
    "colab_type": "text",
    "id": "wxhoT4YTnluv"
   },
   "source": [
    "For 20 epochs,  the rate of the performance is not as expected."
   ]
  },
  {
   "cell_type": "markdown",
   "metadata": {
    "colab_type": "text",
    "id": "_yVFGze-yeaI"
   },
   "source": [
    "**Now lets work on raw data from Inertial Signals.** \n",
    "\n",
    "This is the Raw data which is not edited and sequencial. \n",
    "\n",
    "On this data we can apply RNN or LSTM\n",
    "\n",
    "The frist part would be on 9 raw data collected by the expertise with out and changes made on it.\n",
    "Here we have 7532 rows and 128 columns for each data text. \n",
    "\n",
    "On the first LSTM model, we're going to predict on 6 out puts.\n",
    "\n",
    "On the second LSTM model, we're going to covert the class column into two:\n",
    "\n",
    "\n",
    "1.   Static - {Standing, Sitting, Sleeping}\n",
    "2.   List item - {Walking, Walking upstairs, Walking downstairs}\n",
    "\n"
   ]
  },
  {
   "cell_type": "code",
   "execution_count": 0,
   "metadata": {
    "colab": {},
    "colab_type": "code",
    "id": "PUJTxkFMyNps"
   },
   "outputs": [],
   "source": [
    "#Getting list of the text files from the directory.\n",
    "import os\n",
    "entries = os.listdir('/content/drive/My Drive/Human Activity Recognition/UCI_HAR_Dataset/train/Inertial Signals')"
   ]
  },
  {
   "cell_type": "code",
   "execution_count": 0,
   "metadata": {
    "colab": {},
    "colab_type": "code",
    "id": "c0N4GzbQ0wZR"
   },
   "outputs": [],
   "source": [
    "#A loop to read all the files in sequence and then convert them into as we need to run a sequencial data.\n",
    "#For Train. \n",
    "for i in range(len(entries)):\n",
    "  location = f'/content/drive/My Drive/Human Activity Recognition/UCI_HAR_Dataset/train/Inertial Signals/{entries[i]}'\n",
    "  entries[i] = pd.read_csv(location,delim_whitespace=True, header = None).values\n",
    "X_train= np.transpose(entries, (1,2,0))# Here we are transposing the data to get 7352 rows, 128 time stamps and 9 inputs for each 128 timestamp"
   ]
  },
  {
   "cell_type": "code",
   "execution_count": 0,
   "metadata": {
    "colab": {},
    "colab_type": "code",
    "id": "uOeSwcohehq5"
   },
   "outputs": [],
   "source": [
    "#Getting list of the text files from the directory.\n",
    "entries = os.listdir('/content/drive/My Drive/Human Activity Recognition/UCI_HAR_Dataset/test/Inertial Signals')"
   ]
  },
  {
   "cell_type": "code",
   "execution_count": 0,
   "metadata": {
    "colab": {},
    "colab_type": "code",
    "id": "NRBFTNEJCKdn"
   },
   "outputs": [],
   "source": [
    "#A loop to read all the files in sequence and then convert them into as we need to run a sequencial data.\n",
    "#For Test. \n",
    "for i in range(len(entries)):\n",
    "  location = f'/content/drive/My Drive/Human Activity Recognition/UCI_HAR_Dataset/test/Inertial Signals/{entries[i]}'\n",
    "  entries[i] = pd.read_csv(location,delim_whitespace=True, header = None).values\n",
    "X_test =  np.transpose(entries, (1,2,0))"
   ]
  },
  {
   "cell_type": "code",
   "execution_count": 58,
   "metadata": {
    "colab": {
     "base_uri": "https://localhost:8080/",
     "height": 70
    },
    "colab_type": "code",
    "id": "FZMZkQerdwej",
    "outputId": "7ec068e9-f0ba-437f-d1c1-e2db8edf9d2c"
   },
   "outputs": [
    {
     "name": "stdout",
     "output_type": "stream",
     "text": [
      "7352\n",
      "128\n",
      "9\n"
     ]
    }
   ],
   "source": [
    "#Checking if we have collected the data in correct format for Train. \n",
    "print(len(X_train))\n",
    "print(len(X_train[0]))\n",
    "print(len(X_train[0][0]))"
   ]
  },
  {
   "cell_type": "code",
   "execution_count": 59,
   "metadata": {
    "colab": {
     "base_uri": "https://localhost:8080/",
     "height": 70
    },
    "colab_type": "code",
    "id": "aPa3stcnCQ9R",
    "outputId": "162fe62a-98de-4cbe-ea0b-235cd1813609"
   },
   "outputs": [
    {
     "name": "stdout",
     "output_type": "stream",
     "text": [
      "2947\n",
      "128\n",
      "9\n"
     ]
    }
   ],
   "source": [
    "#Checking if we have collected the data in correct format for Test. \n",
    "print(len(X_test))\n",
    "print(len(X_test[0]))\n",
    "print(len(X_test[0][0]))"
   ]
  },
  {
   "cell_type": "code",
   "execution_count": 0,
   "metadata": {
    "colab": {},
    "colab_type": "code",
    "id": "lKhLBv3cfi1R"
   },
   "outputs": [],
   "source": [
    "#Coverting the y variables into 6 columns and we can use softmax on it. \n",
    "y_train = pd.get_dummies(train['Activity_Name']).values\n",
    "y_test = pd.get_dummies(test['Activity_Name']).values"
   ]
  },
  {
   "cell_type": "code",
   "execution_count": 61,
   "metadata": {
    "colab": {
     "base_uri": "https://localhost:8080/",
     "height": 87
    },
    "colab_type": "code",
    "id": "PzNG3fhLYTKY",
    "outputId": "2404b8fc-d7d7-4497-b539-7d4b6ac5da0d"
   },
   "outputs": [
    {
     "name": "stdout",
     "output_type": "stream",
     "text": [
      "128\n",
      "9\n",
      "7352\n",
      "6\n"
     ]
    }
   ],
   "source": [
    "timesteps = len(X_train[0])#128 Timesteps\n",
    "input_dim = len(X_train[0][0])#Input  dimensions. \n",
    "n_classes = y_train.shape[1]#Number of classes.\n",
    "\n",
    "print(\"Timesteps:{}\".format(timesteps))\n",
    "print(\"Input_dim:{}\".format(input_dim))\n",
    "print(\"Number of Rows:{}\".format(len(X_train)))\n",
    "print(\"Number of Classes:{}\".format(n_classes))"
   ]
  },
  {
   "cell_type": "code",
   "execution_count": 66,
   "metadata": {
    "colab": {
     "base_uri": "https://localhost:8080/",
     "height": 514
    },
    "colab_type": "code",
    "id": "vxztVLzkoV2h",
    "outputId": "1b71fbc9-0ac7-4164-c51c-c5faecf2bf84"
   },
   "outputs": [
    {
     "name": "stdout",
     "output_type": "stream",
     "text": [
      "Model: \"sequential_3\"\n",
      "_________________________________________________________________\n",
      "Layer (type)                 Output Shape              Param #   \n",
      "=================================================================\n",
      "lstm_1 (LSTM)                (None, 128, 64)           18944     \n",
      "_________________________________________________________________\n",
      "dropout_4 (Dropout)          (None, 128, 64)           0         \n",
      "_________________________________________________________________\n",
      "batch_normalization_4 (Batch (None, 128, 64)           256       \n",
      "_________________________________________________________________\n",
      "lstm_2 (LSTM)                (None, 128, 32)           12416     \n",
      "_________________________________________________________________\n",
      "dropout_5 (Dropout)          (None, 128, 32)           0         \n",
      "_________________________________________________________________\n",
      "batch_normalization_5 (Batch (None, 128, 32)           128       \n",
      "_________________________________________________________________\n",
      "lstm_3 (LSTM)                (None, 16)                3136      \n",
      "_________________________________________________________________\n",
      "dropout_6 (Dropout)          (None, 16)                0         \n",
      "_________________________________________________________________\n",
      "batch_normalization_6 (Batch (None, 16)                64        \n",
      "_________________________________________________________________\n",
      "dense_5 (Dense)              (None, 6)                 102       \n",
      "=================================================================\n",
      "Total params: 35,046\n",
      "Trainable params: 34,822\n",
      "Non-trainable params: 224\n",
      "_________________________________________________________________\n"
     ]
    }
   ],
   "source": [
    "#Sequential Model\n",
    "model_deep_lstm = Sequential()\n",
    "#Layer 1 LSTM, input shape, timestamp value, dropout - Normalized random variable and applying batch normalization. \n",
    "model_deep_lstm.add(LSTM(64, return_sequences=True,input_shape = (timesteps, input_dim)))\n",
    "model_deep_lstm.add(Dropout(abs(np.random.normal(0,1))))\n",
    "model_deep_lstm.add(BatchNormalization())\n",
    "#Layer 2 LSTM, timestamp value, dropout - Normalized random variable and applying batch normalization. \n",
    "model_deep_lstm.add(LSTM(32,return_sequences=True))\n",
    "model_deep_lstm.add(Dropout(abs(np.random.normal(0,1))))\n",
    "model_deep_lstm.add(BatchNormalization())\n",
    "#Layer 3 LSTM, timestamp value, dropout - Normalized random variable and applying batch normalization. \n",
    "model_deep_lstm.add(LSTM(16))\n",
    "model_deep_lstm.add(Dropout(abs(np.random.normal(0,1))))\n",
    "model_deep_lstm.add(BatchNormalization())\n",
    "#Layer 4 Output\n",
    "model_deep_lstm.add(Dense(n_classes, activation = 'softmax'))\n",
    "model_deep_lstm.summary()"
   ]
  },
  {
   "cell_type": "code",
   "execution_count": 67,
   "metadata": {
    "colab": {
     "base_uri": "https://localhost:8080/",
     "height": 1000
    },
    "colab_type": "code",
    "id": "zLNPOOhpzGe3",
    "outputId": "59cc939a-c0f6-4cec-9dd0-326a8f5188dd"
   },
   "outputs": [
    {
     "name": "stdout",
     "output_type": "stream",
     "text": [
      "Train on 7352 samples, validate on 2947 samples\n",
      "Epoch 1/30\n",
      "7352/7352 [==============================] - 70s 10ms/step - loss: 0.8796 - accuracy: 0.6774 - val_loss: 1.2108 - val_accuracy: 0.5416\n",
      "Epoch 2/30\n",
      "7352/7352 [==============================] - 68s 9ms/step - loss: 0.3892 - accuracy: 0.8769 - val_loss: 0.3192 - val_accuracy: 0.8877\n",
      "Epoch 3/30\n",
      "7352/7352 [==============================] - 68s 9ms/step - loss: 0.2375 - accuracy: 0.9215 - val_loss: 0.2819 - val_accuracy: 0.8985\n",
      "Epoch 4/30\n",
      "7352/7352 [==============================] - 68s 9ms/step - loss: 0.1916 - accuracy: 0.9320 - val_loss: 1.5059 - val_accuracy: 0.6983\n",
      "Epoch 5/30\n",
      "7352/7352 [==============================] - 68s 9ms/step - loss: 0.1674 - accuracy: 0.9404 - val_loss: 0.1911 - val_accuracy: 0.9345\n",
      "Epoch 6/30\n",
      "7352/7352 [==============================] - 68s 9ms/step - loss: 0.1731 - accuracy: 0.9348 - val_loss: 0.1999 - val_accuracy: 0.9209\n",
      "Epoch 7/30\n",
      "7352/7352 [==============================] - 73s 10ms/step - loss: 0.1624 - accuracy: 0.9395 - val_loss: 0.1868 - val_accuracy: 0.9287\n",
      "Epoch 8/30\n",
      "7352/7352 [==============================] - 69s 9ms/step - loss: 0.1502 - accuracy: 0.9472 - val_loss: 0.3486 - val_accuracy: 0.8985\n",
      "Epoch 9/30\n",
      "7352/7352 [==============================] - 69s 9ms/step - loss: 0.1491 - accuracy: 0.9448 - val_loss: 0.3111 - val_accuracy: 0.8846\n",
      "Epoch 10/30\n",
      "7352/7352 [==============================] - 67s 9ms/step - loss: 0.1484 - accuracy: 0.9440 - val_loss: 0.3027 - val_accuracy: 0.9030\n",
      "Epoch 11/30\n",
      "7352/7352 [==============================] - 63s 9ms/step - loss: 0.1402 - accuracy: 0.9449 - val_loss: 0.2156 - val_accuracy: 0.9321\n",
      "Epoch 12/30\n",
      "7352/7352 [==============================] - 64s 9ms/step - loss: 0.1373 - accuracy: 0.9489 - val_loss: 0.2584 - val_accuracy: 0.9019\n",
      "Epoch 13/30\n",
      "7352/7352 [==============================] - 65s 9ms/step - loss: 0.1363 - accuracy: 0.9494 - val_loss: 0.3154 - val_accuracy: 0.9230\n",
      "Epoch 14/30\n",
      "7352/7352 [==============================] - 62s 8ms/step - loss: 0.1321 - accuracy: 0.9501 - val_loss: 0.3250 - val_accuracy: 0.9220\n",
      "Epoch 15/30\n",
      "7352/7352 [==============================] - 64s 9ms/step - loss: 0.1335 - accuracy: 0.9464 - val_loss: 0.2873 - val_accuracy: 0.9094\n",
      "Epoch 16/30\n",
      "7352/7352 [==============================] - 65s 9ms/step - loss: 0.1291 - accuracy: 0.9479 - val_loss: 0.3127 - val_accuracy: 0.9189\n",
      "Epoch 17/30\n",
      "7352/7352 [==============================] - 65s 9ms/step - loss: 0.1274 - accuracy: 0.9520 - val_loss: 0.2451 - val_accuracy: 0.9155\n",
      "Epoch 18/30\n",
      "7352/7352 [==============================] - 69s 9ms/step - loss: 0.1220 - accuracy: 0.9517 - val_loss: 0.2270 - val_accuracy: 0.9318\n",
      "Epoch 19/30\n",
      "7352/7352 [==============================] - 67s 9ms/step - loss: 0.1305 - accuracy: 0.9487 - val_loss: 0.2630 - val_accuracy: 0.9253\n",
      "Epoch 20/30\n",
      "7352/7352 [==============================] - 70s 10ms/step - loss: 0.1269 - accuracy: 0.9509 - val_loss: 0.2719 - val_accuracy: 0.9169\n",
      "Epoch 21/30\n",
      "7352/7352 [==============================] - 68s 9ms/step - loss: 0.1250 - accuracy: 0.9505 - val_loss: 0.2714 - val_accuracy: 0.9325\n",
      "Epoch 22/30\n",
      "7352/7352 [==============================] - 70s 10ms/step - loss: 0.1240 - accuracy: 0.9553 - val_loss: 0.3298 - val_accuracy: 0.9145\n",
      "Epoch 23/30\n",
      "7352/7352 [==============================] - 68s 9ms/step - loss: 0.1182 - accuracy: 0.9509 - val_loss: 0.3328 - val_accuracy: 0.9179\n",
      "Epoch 24/30\n",
      "7352/7352 [==============================] - 69s 9ms/step - loss: 0.1193 - accuracy: 0.9520 - val_loss: 0.2804 - val_accuracy: 0.9209\n",
      "Epoch 25/30\n",
      "7352/7352 [==============================] - 71s 10ms/step - loss: 0.1154 - accuracy: 0.9542 - val_loss: 0.2866 - val_accuracy: 0.9237\n",
      "Epoch 26/30\n",
      "7352/7352 [==============================] - 70s 10ms/step - loss: 0.1191 - accuracy: 0.9523 - val_loss: 0.2526 - val_accuracy: 0.9328\n",
      "Epoch 27/30\n",
      "7352/7352 [==============================] - 70s 10ms/step - loss: 0.1201 - accuracy: 0.9520 - val_loss: 0.3095 - val_accuracy: 0.9250\n",
      "Epoch 28/30\n",
      "7352/7352 [==============================] - 72s 10ms/step - loss: 0.1233 - accuracy: 0.9521 - val_loss: 0.2544 - val_accuracy: 0.9223\n",
      "Epoch 29/30\n",
      "7352/7352 [==============================] - 71s 10ms/step - loss: 0.1189 - accuracy: 0.9518 - val_loss: 0.3993 - val_accuracy: 0.9206\n",
      "Epoch 30/30\n",
      "7352/7352 [==============================] - 69s 9ms/step - loss: 0.1166 - accuracy: 0.9506 - val_loss: 0.3492 - val_accuracy: 0.9226\n"
     ]
    }
   ],
   "source": [
    "#compling the model using rmsprop optimizer, categorical cross entropy for loss, metrics  - accuracy. \n",
    "model_deep_lstm.compile(optimizer='rmsprop', loss='categorical_crossentropy', metrics=['accuracy'])\n",
    "history = model_deep_lstm.fit(X_train, Y_Tr, batch_size=32, epochs=30, verbose=1, validation_data=(X_test, Y_te))"
   ]
  },
  {
   "cell_type": "markdown",
   "metadata": {
    "colab_type": "text",
    "id": "vtD041jptonR"
   },
   "source": [
    "For 30 Epocs:\n",
    "*   Train accuracy: 95.06\n",
    "*   Test Accuracy: 92.06\n",
    "\n"
   ]
  },
  {
   "cell_type": "markdown",
   "metadata": {
    "colab_type": "text",
    "id": "iPoprTIos0RD"
   },
   "source": [
    "**Converting Multi-Class(6) to 2 Class classification.** "
   ]
  },
  {
   "cell_type": "code",
   "execution_count": 0,
   "metadata": {
    "colab": {},
    "colab_type": "code",
    "id": "1p2oDjcNYOc6"
   },
   "outputs": [],
   "source": [
    "#Converting Train class to Static and Dynamic. \n",
    "train['class_2'] = train['Activity'].map({1:'dynamic', 2:'dynamic', 3:'dynamic', 4:'static', 5:'static', 6:'static'})"
   ]
  },
  {
   "cell_type": "code",
   "execution_count": 72,
   "metadata": {
    "colab": {
     "base_uri": "https://localhost:8080/",
     "height": 70
    },
    "colab_type": "code",
    "id": "_wjujqsEYyG9",
    "outputId": "39d9d29f-ca3c-4ad6-dd4f-097afecb908b"
   },
   "outputs": [
    {
     "data": {
      "text/plain": [
       "static     4067\n",
       "dynamic    3285\n",
       "Name: class_2, dtype: int64"
      ]
     },
     "execution_count": 72,
     "metadata": {
      "tags": []
     },
     "output_type": "execute_result"
    }
   ],
   "source": [
    "train['class_2'].value_counts()"
   ]
  },
  {
   "cell_type": "code",
   "execution_count": 0,
   "metadata": {
    "colab": {},
    "colab_type": "code",
    "id": "QKRMkO9PY3CU"
   },
   "outputs": [],
   "source": [
    "#Converting Test class to Static and Dynamic. \n",
    "test['class_2'] = test['Activity'].map({1:'dynamic', 2:'dynamic', 3:'dynamic', 4:'static', 5:'static', 6:'static'})"
   ]
  },
  {
   "cell_type": "code",
   "execution_count": 74,
   "metadata": {
    "colab": {
     "base_uri": "https://localhost:8080/",
     "height": 70
    },
    "colab_type": "code",
    "id": "XCb0j_eLY--j",
    "outputId": "f4fb3ffe-1e7a-4bea-dd87-4772458f8bec"
   },
   "outputs": [
    {
     "data": {
      "text/plain": [
       "static     1560\n",
       "dynamic    1387\n",
       "Name: class_2, dtype: int64"
      ]
     },
     "execution_count": 74,
     "metadata": {
      "tags": []
     },
     "output_type": "execute_result"
    }
   ],
   "source": [
    "test['class_2'].value_counts()"
   ]
  },
  {
   "cell_type": "code",
   "execution_count": 0,
   "metadata": {
    "colab": {},
    "colab_type": "code",
    "id": "7rJybZ7GaEKB"
   },
   "outputs": [],
   "source": [
    "#Converting string to binary 0 and 1 - Train. \n",
    "train['class_2'] = train['class_2'].map({'static':0,'dynamic':1})"
   ]
  },
  {
   "cell_type": "code",
   "execution_count": 0,
   "metadata": {
    "colab": {},
    "colab_type": "code",
    "id": "IDkK8kbXaUIB"
   },
   "outputs": [],
   "source": [
    "#Converting string to binary 0 and 1 - Train. \n",
    "test['class_2'] = test['class_2'].map({'static':0,'dynamic':1})"
   ]
  },
  {
   "cell_type": "code",
   "execution_count": 0,
   "metadata": {
    "colab": {},
    "colab_type": "code",
    "id": "01_IoymSZAYo"
   },
   "outputs": [],
   "source": [
    "y_train = train['class_2']# y train"
   ]
  },
  {
   "cell_type": "code",
   "execution_count": 0,
   "metadata": {
    "colab": {},
    "colab_type": "code",
    "id": "rJ3j5Bh_ZKKB"
   },
   "outputs": [],
   "source": [
    "y_test = test['class_2']# y test"
   ]
  },
  {
   "cell_type": "code",
   "execution_count": 79,
   "metadata": {
    "colab": {
     "base_uri": "https://localhost:8080/",
     "height": 514
    },
    "colab_type": "code",
    "id": "kDmvEfSWZKEv",
    "outputId": "5a1deef9-36e5-494a-98dd-74c80316fc3d"
   },
   "outputs": [
    {
     "name": "stdout",
     "output_type": "stream",
     "text": [
      "Model: \"sequential_4\"\n",
      "_________________________________________________________________\n",
      "Layer (type)                 Output Shape              Param #   \n",
      "=================================================================\n",
      "lstm_4 (LSTM)                (None, 128, 64)           18944     \n",
      "_________________________________________________________________\n",
      "dropout_7 (Dropout)          (None, 128, 64)           0         \n",
      "_________________________________________________________________\n",
      "batch_normalization_7 (Batch (None, 128, 64)           256       \n",
      "_________________________________________________________________\n",
      "lstm_5 (LSTM)                (None, 128, 32)           12416     \n",
      "_________________________________________________________________\n",
      "dropout_8 (Dropout)          (None, 128, 32)           0         \n",
      "_________________________________________________________________\n",
      "batch_normalization_8 (Batch (None, 128, 32)           128       \n",
      "_________________________________________________________________\n",
      "lstm_6 (LSTM)                (None, 16)                3136      \n",
      "_________________________________________________________________\n",
      "dropout_9 (Dropout)          (None, 16)                0         \n",
      "_________________________________________________________________\n",
      "batch_normalization_9 (Batch (None, 16)                64        \n",
      "_________________________________________________________________\n",
      "dense_6 (Dense)              (None, 1)                 17        \n",
      "=================================================================\n",
      "Total params: 34,961\n",
      "Trainable params: 34,737\n",
      "Non-trainable params: 224\n",
      "_________________________________________________________________\n"
     ]
    }
   ],
   "source": [
    "#Sequential Model\n",
    "model_deep_lstm = Sequential()\n",
    "#Layer 1 LSTM, input shape, timestamp value, dropout - Normalized random variable and applying batch normalization. \n",
    "model_deep_lstm.add(LSTM(64, return_sequences=True,input_shape = (timesteps, data_dim)))\n",
    "model_deep_lstm.add(Dropout(abs(np.random.normal(0,1))))\n",
    "model_deep_lstm.add(BatchNormalization())\n",
    "#Layer 2 LSTM, timestamp value, dropout - Normalized random variable and applying batch normalization. \n",
    "model_deep_lstm.add(LSTM(32,return_sequences=True))\n",
    "model_deep_lstm.add(Dropout(abs(np.random.normal(0,1))))\n",
    "model_deep_lstm.add(BatchNormalization())\n",
    "#Layer 3 LSTM, timestamp value, dropout - Normalized random variable and applying batch normalization. \n",
    "model_deep_lstm.add(LSTM(16))\n",
    "model_deep_lstm.add(Dropout(abs(np.random.normal(0,1))))\n",
    "model_deep_lstm.add(BatchNormalization())\n",
    "#Layer 4 Output\n",
    "model_deep_lstm.add(Dense(1, activation = 'sigmoid'))\n",
    "model_deep_lstm.summary()"
   ]
  },
  {
   "cell_type": "code",
   "execution_count": 80,
   "metadata": {
    "colab": {
     "base_uri": "https://localhost:8080/",
     "height": 390
    },
    "colab_type": "code",
    "id": "j9csvtPMZi2S",
    "outputId": "63f42c3f-4b5e-47cb-a66d-57b53108b2d3"
   },
   "outputs": [
    {
     "name": "stdout",
     "output_type": "stream",
     "text": [
      "Train on 7352 samples, validate on 2947 samples\n",
      "Epoch 1/10\n",
      "7352/7352 [==============================] - 61s 8ms/step - loss: 0.2718 - accuracy: 0.9004 - val_loss: 0.1904 - val_accuracy: 0.9413\n",
      "Epoch 2/10\n",
      "7352/7352 [==============================] - 65s 9ms/step - loss: 0.1232 - accuracy: 0.9693 - val_loss: 0.0723 - val_accuracy: 0.9844\n",
      "Epoch 3/10\n",
      "7352/7352 [==============================] - 63s 9ms/step - loss: 0.0889 - accuracy: 0.9744 - val_loss: 0.0102 - val_accuracy: 0.9980\n",
      "Epoch 4/10\n",
      "7352/7352 [==============================] - 67s 9ms/step - loss: 0.0689 - accuracy: 0.9773 - val_loss: 0.0357 - val_accuracy: 0.9936\n",
      "Epoch 5/10\n",
      "7352/7352 [==============================] - 66s 9ms/step - loss: 0.0580 - accuracy: 0.9805 - val_loss: 0.0354 - val_accuracy: 0.9881\n",
      "Epoch 6/10\n",
      "7352/7352 [==============================] - 70s 9ms/step - loss: 0.0589 - accuracy: 0.9810 - val_loss: 0.0573 - val_accuracy: 0.9925\n",
      "Epoch 7/10\n",
      "7352/7352 [==============================] - 68s 9ms/step - loss: 0.0490 - accuracy: 0.9842 - val_loss: 0.0196 - val_accuracy: 0.9963\n",
      "Epoch 8/10\n",
      "7352/7352 [==============================] - 66s 9ms/step - loss: 0.0462 - accuracy: 0.9834 - val_loss: 0.0454 - val_accuracy: 0.9929\n",
      "Epoch 9/10\n",
      "7352/7352 [==============================] - 69s 9ms/step - loss: 0.0451 - accuracy: 0.9839 - val_loss: 0.0205 - val_accuracy: 0.9969\n",
      "Epoch 10/10\n",
      "7352/7352 [==============================] - 68s 9ms/step - loss: 0.0509 - accuracy: 0.9810 - val_loss: 0.0138 - val_accuracy: 0.9986\n"
     ]
    }
   ],
   "source": [
    "#compling the model using rmsprop optimizer, categorical cross entropy for loss, metrics  - accuracy. \n",
    "model_deep_lstm.compile(optimizer='rmsprop', loss='binary_crossentropy', metrics=['accuracy'])\n",
    "history = model_deep_lstm.fit(X_train, y_train, batch_size=32, epochs=10, verbose=1, validation_data=(X_test, y_test))"
   ]
  },
  {
   "cell_type": "markdown",
   "metadata": {
    "colab_type": "text",
    "id": "9Pb0cEhKt4wB"
   },
   "source": [
    "For 10 Epochs on 2 Class, classifications:\n",
    "*   Train accuracy : 98.10\n",
    "*   Test accuracy  : 99.86\n",
    "Which is quit good when we are trying to classify the data. \n",
    "\n"
   ]
  },
  {
   "cell_type": "markdown",
   "metadata": {
    "colab_type": "text",
    "id": "k5MSX19juRbA"
   },
   "source": [
    "**Model Peformance:**\n",
    "\n",
    "\n",
    "*   Logistic Regression: Train_F1_score = 0.99, Test_F1_score = 0.96\n",
    "*   SVC                : Train_F1_score = 0.98, Test_F1_score = 0.95\n",
    "*   SVC_Grid           : Train_F1_score = 0.99, Test_F1_score = 0.96\n",
    "*   MLP_Sigmoid        : Train_Accuracy = 0.87, Test_Accuracy = 0.85\n",
    "*   LSTM_SoftMax       : Train_Accuracy = 0.95, Test_Accuracy = 0.92 (6 Class)\n",
    "*   LSTM_Sigmoid       : Train_Accuracy = 0.98, Test_Accuracy = 0.99 (2 Class)\n",
    "\n",
    "\n",
    "\n",
    "\n",
    "\n",
    "\n",
    "\n",
    "\n",
    "\n"
   ]
  },
  {
   "cell_type": "markdown",
   "metadata": {
    "colab_type": "text",
    "id": "qa5yrRB8uRX3"
   },
   "source": [
    "On my observation each model has performed there best in there own way. \n",
    "\n",
    "On comparision, LSTM_Sigmoid on both Train and Test data\n",
    "\n"
   ]
  },
  {
   "cell_type": "markdown",
   "metadata": {
    "colab_type": "text",
    "id": "nb8USx34uRUU"
   },
   "source": []
  }
 ],
 "metadata": {
  "accelerator": "TPU",
  "colab": {
   "collapsed_sections": [],
   "machine_shape": "hm",
   "name": "Human Activity Recognition.ipynb",
   "provenance": [],
   "toc_visible": true
  },
  "kernelspec": {
   "display_name": "Python 3",
   "language": "python",
   "name": "python3"
  },
  "language_info": {
   "codemirror_mode": {
    "name": "ipython",
    "version": 3
   },
   "file_extension": ".py",
   "mimetype": "text/x-python",
   "name": "python",
   "nbconvert_exporter": "python",
   "pygments_lexer": "ipython3",
   "version": "3.7.6"
  }
 },
 "nbformat": 4,
 "nbformat_minor": 1
}
